{
  "nbformat": 4,
  "nbformat_minor": 0,
  "metadata": {
    "colab": {
      "provenance": [],
      "include_colab_link": true
    },
    "kernelspec": {
      "name": "python3",
      "display_name": "Python 3"
    },
    "language_info": {
      "name": "python"
    }
  },
  "cells": [
    {
      "cell_type": "markdown",
      "metadata": {
        "id": "view-in-github",
        "colab_type": "text"
      },
      "source": [
        "<a href=\"https://colab.research.google.com/github/Francoy2k/Sistema-de-registro-2/blob/main/Python_Data_Science.ipynb\" target=\"_parent\"><img src=\"https://colab.research.google.com/assets/colab-badge.svg\" alt=\"Open In Colab\"/></a>"
      ]
    },
    {
      "cell_type": "markdown",
      "source": [
        "# Python para Data Science\n",
        "\n",
        "Notebook para el curso de Python para Data Science publicado en la plataforma de [Alura Latam](https://www.aluracursos.com/)"
      ],
      "metadata": {
        "id": "lQx6Mmv0OJyT"
      }
    },
    {
      "cell_type": "markdown",
      "source": [
        "# Introducción a Python\n",
        "¡Vamos a conocer Python, nuestro ambiente de estudio, y también generaremos nuestro primer código en este lenguaje!"
      ],
      "metadata": {
        "id": "7SiB6JIpYKmY"
      }
    },
    {
      "cell_type": "markdown",
      "source": [
        "## Google Colaboratory\n",
        "\n",
        "Ya aprendimos qué es [Python](https://www.python.org/) y ahora aprenderemos a usar nuestra herramienta de ejecución [Google Colaboratory](https://colab.research.google.com/) para programar en un notebook interactivo.\n",
        "\n",
        "Vamos a probar algunas funciones de este ambiente."
      ],
      "metadata": {
        "id": "Yugfb3fCOYY9"
      }
    },
    {
      "cell_type": "markdown",
      "source": [
        " **`>>> Usa esta celda para mover <<<`**"
      ],
      "metadata": {
        "id": "2iUHQsJasJAk"
      }
    },
    {
      "cell_type": "code",
      "source": [],
      "metadata": {
        "id": "o7jrX_iKhdkU"
      },
      "execution_count": null,
      "outputs": []
    },
    {
      "cell_type": "markdown",
      "source": [
        "## ¡Hola mundo!\n",
        "\n",
        "Vamos a conocer un poco más de cerca nuestro notebook. Para ello ejecutaremos nuestro primer comando en Python: [`print()`](https://docs.python.org/3/library/functions.html#print)"
      ],
      "metadata": {
        "id": "aLSFP2V7XTfe"
      }
    },
    {
      "cell_type": "code",
      "source": [],
      "metadata": {
        "id": "0qZX8_ZQBYyk"
      },
      "execution_count": null,
      "outputs": []
    },
    {
      "cell_type": "code",
      "source": [],
      "metadata": {
        "id": "GLMzF_AKBY7a"
      },
      "execution_count": null,
      "outputs": []
    },
    {
      "cell_type": "markdown",
      "source": [
        "# Manipulando los datos\n",
        "\n",
        "Vamos a aprender sobre las variables en Python, cómo declararlas y utilizarlas además de conocer otros comandos de este lenguaje. :D"
      ],
      "metadata": {
        "id": "iP8uWQmFYFRs"
      }
    },
    {
      "cell_type": "markdown",
      "source": [
        "## Variables\n",
        "\n",
        "En Data Science trabajamos con varios tipos de datos e informaciones, entonces es esencial saber cómo trabajar con las variables."
      ],
      "metadata": {
        "id": "sLNVmnTbag1Z"
      }
    },
    {
      "cell_type": "markdown",
      "source": [
        "Las variables en Python se crean cuando atribuimos un valor a ella.\n",
        "\n",
        "Para esto, colocamos el nombre de la variable, el signo de igual (`=`) y el valor que queremos atribuirle."
      ],
      "metadata": {
        "id": "lsCY0wahAbf6"
      }
    },
    {
      "cell_type": "code",
      "source": [],
      "metadata": {
        "id": "vsHh5buZADND"
      },
      "execution_count": null,
      "outputs": []
    },
    {
      "cell_type": "code",
      "source": [],
      "metadata": {
        "id": "sivPtqSjADQV"
      },
      "execution_count": null,
      "outputs": []
    },
    {
      "cell_type": "code",
      "source": [],
      "metadata": {
        "id": "JC8jO47wADlm"
      },
      "execution_count": null,
      "outputs": []
    },
    {
      "cell_type": "markdown",
      "source": [
        "Existen algunos tipos de nomes que **no** podemos definir para las variables:\n",
        "\n",
        "- **Nombres que comiencen con números**\n",
        "  - Ejemplos: `10_notas`, `2_nombre_casa`, etc.\n",
        "- **Palabras separadas por espacio**\n",
        "  - Ejemplos: `Nombre escuela`, `notas estudiantes`, etc.\n",
        "- **Nombres de funciones de Python**\n",
        "  - Ejemplos: `print`, `type`, etc."
      ],
      "metadata": {
        "id": "om2N0jHKAzwL"
      }
    },
    {
      "cell_type": "markdown",
      "source": [
        "> Las letras mayúsculas y minúsculas generarán diferentes variables. La variable `edad` es diferente de `Edad` que a su vez es diferente de `EDAD`:\n",
        "``` Python\n",
        "edad = 1\n",
        "Edad = 2\n",
        "EDAD = 3\n",
        "_edad = 4\n",
        "_edad_ = 5\n",
        "print(edad, Edad, EDAD, _edad, _edad_)\n",
        "1 2 3 4 5\n",
        "```"
      ],
      "metadata": {
        "id": "A19vY2GVMujB"
      }
    },
    {
      "cell_type": "markdown",
      "source": [
        "## Tipos de variables\n",
        "\n",
        "Cada variable contiene una clase específica con respecto al tipo de objeto al cual esta hace referencia. Estas clases serán diferentes de acuerdo con el tipo de dato que le sea atribuido a una variable.\n",
        "\n",
        "Para conocer la clase de cada elemento usamos la función [`type()`](https://docs.python.org/3/library/functions.html#type)"
      ],
      "metadata": {
        "id": "UqhzuBhBHsps"
      }
    },
    {
      "cell_type": "code",
      "source": [],
      "metadata": {
        "id": "J5a9t73A_-PX"
      },
      "execution_count": null,
      "outputs": []
    },
    {
      "cell_type": "code",
      "source": [],
      "metadata": {
        "id": "rqmO1ew-_-So"
      },
      "execution_count": null,
      "outputs": []
    },
    {
      "cell_type": "code",
      "source": [],
      "metadata": {
        "id": "xkrPMkeY_-cP"
      },
      "execution_count": null,
      "outputs": []
    },
    {
      "cell_type": "markdown",
      "source": [
        "En un conjunto de datos escolares podemos tener varios tipos de informaciones. Supongamos que tenemos acceso a la ficha de datos del alumno *Penélope Camacho*, cómo transformamos este nombre en variables de Python?\n",
        "\n",
        "#### Ficha:\n",
        "\n",
        "- Nombre: Penélope Camacho\n",
        "- Edad: 11 años\n",
        "- Promedio del semestre: 9,75\n",
        "- Situación de aprobación: Verdadera (aprobado)"
      ],
      "metadata": {
        "id": "O-FxDumfWu0C"
      }
    },
    {
      "cell_type": "code",
      "source": [],
      "metadata": {
        "id": "FabQ7jQf_8Xt"
      },
      "execution_count": null,
      "outputs": []
    },
    {
      "cell_type": "code",
      "source": [],
      "metadata": {
        "id": "IZLQnZUj_8bd"
      },
      "execution_count": null,
      "outputs": []
    },
    {
      "cell_type": "markdown",
      "source": [
        "## Variables numéricas\n",
        "\n",
        "Entre los tipos de datos numéricos vamos a enfocarnos en los tipos `entero` y `float`."
      ],
      "metadata": {
        "id": "KFq_8Sxf-OG0"
      }
    },
    {
      "cell_type": "markdown",
      "source": [
        "Tenemos una tabla de información sobre los diversos cargos, cantidad de personas empleadas y el salario correspondiente:\n",
        "\n",
        "|Cargo | Cantidad | Salario|\n",
        "|---|---|---|\n",
        "|Vigilante | 5 | 300 |\n",
        "|Docente | 16| 500|\n",
        "|Coordinador| 2 |600|\n",
        "\n",
        "Necesitamos trabajar con estos datos para obtener:\n",
        "\n",
        "- La cantidad total de empleados;\n",
        "- La diferencia entre el salario más bajo y más alto; y\n",
        "- El promedio ponderado de los salarios de los empleados de la escuela."
      ],
      "metadata": {
        "id": "8_HYUbkVYdQY"
      }
    },
    {
      "cell_type": "code",
      "source": [],
      "metadata": {
        "id": "F_X-wxdm_5Ys"
      },
      "execution_count": null,
      "outputs": []
    },
    {
      "cell_type": "code",
      "source": [],
      "metadata": {
        "id": "gKmBbhII_5b9"
      },
      "execution_count": null,
      "outputs": []
    },
    {
      "cell_type": "code",
      "source": [],
      "metadata": {
        "id": "fIugsxNy_53j"
      },
      "execution_count": null,
      "outputs": []
    },
    {
      "cell_type": "markdown",
      "source": [
        "## Strings"
      ],
      "metadata": {
        "id": "yQy7b0ZWoD-P"
      }
    },
    {
      "cell_type": "markdown",
      "source": [
        "Strings hace referencia a un conjunto de caracteres formando un texto.\n",
        "\n",
        "Podemos crear Strings cuando atribuimos un dato a una variable entre comillas sencillas (`'`) o comillas dobles (`\"`)."
      ],
      "metadata": {
        "id": "vlo2-DXusv3s"
      }
    },
    {
      "cell_type": "code",
      "source": [],
      "metadata": {
        "id": "ityEWqvh_2wK"
      },
      "execution_count": null,
      "outputs": []
    },
    {
      "cell_type": "markdown",
      "source": [
        "Las variables textuales son objetos que poseen métodos que nos ayudan a formatear strings. Los métodos los podemos ejecutar al definir un objeto de acuerdo con la siguiente estructura:\n",
        "\n",
        "```\n",
        "objeto.metodo()\n",
        "```\n",
        "\n",
        "Existen métodos que no necesitan los `()`, siempre es una buena práctica verificar la documentación para cada caso."
      ],
      "metadata": {
        "id": "2e9UD_CCxqz_"
      }
    },
    {
      "cell_type": "markdown",
      "source": [
        "---\n",
        "**Situación:**\n",
        "\n",
        "Recibimos una variable con el nombre de una profesora de la escuela para añadirla a los registros. Sin embargo, necesitamos darle un tratamiento a este texto antes de insertarlo al sistema."
      ],
      "metadata": {
        "id": "p6aPmMGP4tf9"
      }
    },
    {
      "cell_type": "code",
      "source": [
        "texto = '  Micaela de los Sanyos '"
      ],
      "metadata": {
        "id": "icDWtYTjBO0n"
      },
      "execution_count": null,
      "outputs": []
    },
    {
      "cell_type": "markdown",
      "source": [
        "El objetivo final es que el nombre aparezca de la siguiente forma:\n",
        "\n",
        "```\n",
        "'MICAELA DE LOS SANTOS'\n",
        "```"
      ],
      "metadata": {
        "id": "Dg2ZXSZOGzjC"
      }
    },
    {
      "cell_type": "markdown",
      "source": [
        "### [`str.upper()` ](https://docs.python.org/3/library/stdtypes.html#str.upper)\n",
        "Convierte una string a mayúsculas."
      ],
      "metadata": {
        "id": "iVTAD8q702eN"
      }
    },
    {
      "cell_type": "code",
      "source": [],
      "metadata": {
        "id": "wMVshJrY_ZXh"
      },
      "execution_count": null,
      "outputs": []
    },
    {
      "cell_type": "markdown",
      "source": [
        "### [`str.lower()`](https://docs.python.org/3/library/stdtypes.html#str.lower)\n",
        "Convierte una string a minúsculas."
      ],
      "metadata": {
        "id": "hbDSBtMV1TpG"
      }
    },
    {
      "cell_type": "code",
      "source": [],
      "metadata": {
        "id": "px3yEeNH_YK4"
      },
      "execution_count": null,
      "outputs": []
    },
    {
      "cell_type": "markdown",
      "source": [
        "### [`str.strip()`](https://docs.python.org/3/library/stdtypes.html#str.strip)\n",
        "Elimina los espacios en blanco al inicio y al final de una string."
      ],
      "metadata": {
        "id": "kz47eWM11gii"
      }
    },
    {
      "cell_type": "code",
      "source": [],
      "metadata": {
        "id": "76dLgNa4_XAe"
      },
      "execution_count": null,
      "outputs": []
    },
    {
      "cell_type": "markdown",
      "source": [
        "### [`str.replace(antiguo, nuevo)`](https://docs.python.org/3/library/stdtypes.html#str.replace)\n",
        "\n",
        "Sustituye todas las ocurrencias del texto \"antiguo\" en la string por el  \"nuevo\"."
      ],
      "metadata": {
        "id": "m6notiyS1SCV"
      }
    },
    {
      "cell_type": "code",
      "source": [],
      "metadata": {
        "id": "PNXAixtE_V6R"
      },
      "execution_count": null,
      "outputs": []
    },
    {
      "cell_type": "markdown",
      "source": [
        "### Observaciones\n",
        "\n",
        "1. Los métodos devuelven una **tranformación**, no son ejecutados directamente sobre la variable donde está almacenado el texto.\n",
        "\n",
        "2. Adicionalmente, podemos acumular la ejecución de los métodos."
      ],
      "metadata": {
        "id": "zukvEjhG2Rcn"
      }
    },
    {
      "cell_type": "code",
      "source": [],
      "metadata": {
        "id": "JjkBRklr_T5n"
      },
      "execution_count": null,
      "outputs": []
    },
    {
      "cell_type": "markdown",
      "source": [
        "Para que la transformación se pueda ejecutar debemos atribuir la salida de las transformaciones a las variables"
      ],
      "metadata": {
        "id": "1KbwfVut2h6I"
      }
    },
    {
      "cell_type": "code",
      "source": [
        "palabra_frase= 'lindo dia'\n",
        "palabra_frase"
      ],
      "metadata": {
        "id": "ocPP-Jaj_SJI",
        "colab": {
          "base_uri": "https://localhost:8080/",
          "height": 35
        },
        "outputId": "56cd48e6-56e6-46f1-bffb-4a4c5266ee38"
      },
      "execution_count": null,
      "outputs": [
        {
          "output_type": "execute_result",
          "data": {
            "text/plain": [
              "'lindo dia'"
            ],
            "application/vnd.google.colaboratory.intrinsic+json": {
              "type": "string"
            }
          },
          "metadata": {},
          "execution_count": 32
        }
      ]
    },
    {
      "cell_type": "code",
      "source": [
        "palabra_frase= str.upper(input('Ingrese una horacion'))\n",
        "\n",
        "print(palabra_frase)\n",
        "\n"
      ],
      "metadata": {
        "id": "9NEKphSl3zCK",
        "outputId": "a56211e2-283f-4c83-c5ca-657b0105a4a0",
        "colab": {
          "base_uri": "https://localhost:8080/",
          "height": 211
        }
      },
      "execution_count": null,
      "outputs": [
        {
          "name": "stdout",
          "output_type": "stream",
          "text": [
            "Ingrese una horacionhola\n"
          ]
        },
        {
          "output_type": "error",
          "ename": "TypeError",
          "evalue": "'str' object is not callable",
          "traceback": [
            "\u001b[0;31m---------------------------------------------------------------------------\u001b[0m",
            "\u001b[0;31mTypeError\u001b[0m                                 Traceback (most recent call last)",
            "\u001b[0;32m<ipython-input-49-b6c59a320748>\u001b[0m in \u001b[0;36m<cell line: 0>\u001b[0;34m()\u001b[0m\n\u001b[1;32m      1\u001b[0m \u001b[0mpalabra_frase\u001b[0m\u001b[0;34m=\u001b[0m \u001b[0mstr\u001b[0m\u001b[0;34m.\u001b[0m\u001b[0mupper\u001b[0m\u001b[0;34m(\u001b[0m\u001b[0minput\u001b[0m\u001b[0;34m(\u001b[0m\u001b[0;34m'Ingrese una horacion'\u001b[0m\u001b[0;34m)\u001b[0m\u001b[0;34m)\u001b[0m\u001b[0;34m\u001b[0m\u001b[0;34m\u001b[0m\u001b[0m\n\u001b[1;32m      2\u001b[0m \u001b[0;34m\u001b[0m\u001b[0m\n\u001b[0;32m----> 3\u001b[0;31m \u001b[0mprint\u001b[0m\u001b[0;34m(\u001b[0m\u001b[0mpalabra_frase\u001b[0m\u001b[0;34m)\u001b[0m\u001b[0;34m\u001b[0m\u001b[0;34m\u001b[0m\u001b[0m\n\u001b[0m\u001b[1;32m      4\u001b[0m \u001b[0;34m\u001b[0m\u001b[0m\n",
            "\u001b[0;31mTypeError\u001b[0m: 'str' object is not callable"
          ]
        }
      ]
    },
    {
      "cell_type": "code",
      "source": [
        "palabra_frase= str.lower(input('Ingrese una horacion'))\n",
        "print(palabra_frase)"
      ],
      "metadata": {
        "id": "0V_6EQla5Q4Z",
        "outputId": "dfef58f6-26bf-4dec-f9bc-9d2000cdfcb5",
        "colab": {
          "base_uri": "https://localhost:8080/",
          "height": 176
        }
      },
      "execution_count": null,
      "outputs": [
        {
          "name": "stdout",
          "output_type": "stream",
          "text": [
            "Ingrese una horacionHOLA\n"
          ]
        },
        {
          "output_type": "error",
          "ename": "TypeError",
          "evalue": "'str' object is not callable",
          "traceback": [
            "\u001b[0;31m---------------------------------------------------------------------------\u001b[0m",
            "\u001b[0;31mTypeError\u001b[0m                                 Traceback (most recent call last)",
            "\u001b[0;32m<ipython-input-50-804682ea654c>\u001b[0m in \u001b[0;36m<cell line: 0>\u001b[0;34m()\u001b[0m\n\u001b[1;32m      1\u001b[0m \u001b[0mpalabra_frase\u001b[0m\u001b[0;34m=\u001b[0m \u001b[0mstr\u001b[0m\u001b[0;34m.\u001b[0m\u001b[0mlower\u001b[0m\u001b[0;34m(\u001b[0m\u001b[0minput\u001b[0m\u001b[0;34m(\u001b[0m\u001b[0;34m'Ingrese una horacion'\u001b[0m\u001b[0;34m)\u001b[0m\u001b[0;34m)\u001b[0m\u001b[0;34m\u001b[0m\u001b[0;34m\u001b[0m\u001b[0m\n\u001b[0;32m----> 2\u001b[0;31m \u001b[0mprint\u001b[0m\u001b[0;34m(\u001b[0m\u001b[0mpalabra_frase\u001b[0m\u001b[0;34m)\u001b[0m\u001b[0;34m\u001b[0m\u001b[0;34m\u001b[0m\u001b[0m\n\u001b[0m",
            "\u001b[0;31mTypeError\u001b[0m: 'str' object is not callable"
          ]
        }
      ]
    },
    {
      "cell_type": "code",
      "source": [],
      "metadata": {
        "id": "m1RvLGZZ_SP3"
      },
      "execution_count": null,
      "outputs": []
    },
    {
      "cell_type": "markdown",
      "source": [
        "## Capturando datos\n",
        "\n",
        "En algunas aplicaciones necesitamos capturar los valores del usuario de nuestro proyecto. En python, logramos capturar los datos del usuario a través del comando [`input()`](https://docs.python.org/3/library/functions.html#input).\n",
        "\n",
        "Para ejecutar la captura debemos atribuir el resultado de esta función a una variable."
      ],
      "metadata": {
        "id": "0h9Fh5G9kHCa"
      }
    },
    {
      "cell_type": "code",
      "source": [
        "nombre= input(' Inresa los numeros')"
      ],
      "metadata": {
        "id": "zbH_9i3q_PdY",
        "outputId": "27536a2c-4c50-4377-a980-83920c327e8c",
        "colab": {
          "base_uri": "https://localhost:8080/"
        }
      },
      "execution_count": null,
      "outputs": [
        {
          "name": "stdout",
          "output_type": "stream",
          "text": [
            " Inresa los numeros3,4\n"
          ]
        }
      ]
    },
    {
      "cell_type": "code",
      "source": [
        "nombre= input ('Ingrese su nombre')\n",
        "edad= input ('Ingrese su edad')\n",
        "altura= input ('Ingrese su altura')\n",
        "print (f'Hola{nombre} Tienes {edad} años y mides {altura} cm')"
      ],
      "metadata": {
        "id": "SRLat1_1We9w",
        "outputId": "047204dc-7241-4c58-94ea-b8e3a0b59394",
        "colab": {
          "base_uri": "https://localhost:8080/"
        }
      },
      "execution_count": null,
      "outputs": [
        {
          "output_type": "stream",
          "name": "stdout",
          "text": [
            "Ingrese su nombreFranco\n",
            "Ingrese su edad 25\n",
            "Ingrese su altura 1 .70\n",
            "HolaFranco Tienes  25 años y mides  1 .70 cm\n"
          ]
        }
      ]
    },
    {
      "cell_type": "code",
      "source": [
        "dinero= int (input('¿Cuanto dinero tienes?'))\n",
        "invertido= int (input( '¿Cuanto vas a invertir?'))\n",
        "gastos= int (input('¿Cuanto gastas?'))\n",
        "\n",
        "\n",
        "print ( dinero + invertido + gastos /  )\n"
      ],
      "metadata": {
        "id": "YNr7m1TxZHKu",
        "outputId": "89830f10-611f-47af-cf2f-140643a05680",
        "colab": {
          "base_uri": "https://localhost:8080/"
        }
      },
      "execution_count": null,
      "outputs": [
        {
          "output_type": "stream",
          "name": "stdout",
          "text": [
            "¿Cuanto dinero tienes?2\n",
            "¿Cuanto vas a invertir?2\n",
            "¿Cuanto gastas?2\n",
            "2.0\n"
          ]
        }
      ]
    },
    {
      "cell_type": "code",
      "source": [
        "nota_1= 5\n",
        "peso_1=1\n",
        "nota_2=12\n",
        "peso_2=2\n",
        "nota_3=20\n",
        "peso_3=3\n",
        "nota_4=15\n",
        "peso_4=4\n",
        "\n",
        "promedio_alumno=(nota_1*peso_1 + nota_2*peso_2 +nota_3*peso_3+nota_4*peso_4 )/(peso_1+peso_2+peso_3+peso_4)\n",
        "print(promedio_alumno)\n",
        "\n"
      ],
      "metadata": {
        "id": "2sveGA5VvCwy",
        "outputId": "1f28a286-9f23-446d-8724-8b5b6bf22d1e",
        "colab": {
          "base_uri": "https://localhost:8080/"
        }
      },
      "execution_count": null,
      "outputs": [
        {
          "output_type": "stream",
          "name": "stdout",
          "text": [
            "14.9\n"
          ]
        }
      ]
    },
    {
      "cell_type": "code",
      "source": [],
      "metadata": {
        "id": "NMMFapzEX6_f"
      },
      "execution_count": null,
      "outputs": []
    },
    {
      "cell_type": "code",
      "source": [],
      "metadata": {
        "id": "Kpgv-NQHg3Dw"
      },
      "execution_count": null,
      "outputs": []
    },
    {
      "cell_type": "code",
      "source": [
        "type(nombre)"
      ],
      "metadata": {
        "id": "JZy1Q9Tl_PgL",
        "outputId": "d4cb303f-dfd5-4c35-f160-ceeac9953ac5",
        "colab": {
          "base_uri": "https://localhost:8080/"
        }
      },
      "execution_count": null,
      "outputs": [
        {
          "output_type": "execute_result",
          "data": {
            "text/plain": [
              "str"
            ]
          },
          "metadata": {},
          "execution_count": 4
        }
      ]
    },
    {
      "cell_type": "code",
      "source": [
        "año_de_admicion = input('ingresa el año de admicion')"
      ],
      "metadata": {
        "id": "KFpbXD5dU642",
        "outputId": "5d77702e-aa60-49f2-b771-c2c48d366b6b",
        "colab": {
          "base_uri": "https://localhost:8080/"
        }
      },
      "execution_count": null,
      "outputs": [
        {
          "name": "stdout",
          "output_type": "stream",
          "text": [
            "ingresa el año de admicion2024\n"
          ]
        }
      ]
    },
    {
      "cell_type": "code",
      "source": [
        "type(año_de_admicion)"
      ],
      "metadata": {
        "id": "gzhhlr-EVOb9",
        "outputId": "2cd2866b-5f8b-4885-a8ca-1b7dbc9f6cf9",
        "colab": {
          "base_uri": "https://localhost:8080/"
        }
      },
      "execution_count": null,
      "outputs": [
        {
          "output_type": "execute_result",
          "data": {
            "text/plain": [
              "str"
            ]
          },
          "metadata": {},
          "execution_count": 6
        }
      ]
    },
    {
      "cell_type": "code",
      "source": [],
      "metadata": {
        "id": "rUEiHyqlVUj8"
      },
      "execution_count": null,
      "outputs": []
    },
    {
      "cell_type": "markdown",
      "source": [
        "La salida de este comando siempre será una *string*. Esto quiere decir que aunque capturemos un valor de variable numérica, este será de tipo string.\n",
        "\n",
        "Entonces, será necesario **convertir el resultado cuando no se desea utilizar el valor como tipo string**."
      ],
      "metadata": {
        "id": "7z7hcLCk_aCY"
      }
    },
    {
      "cell_type": "markdown",
      "source": [
        "Existen funciones para la conversión de valores:\n",
        "\n",
        "- Enteros: [`int(dato_para_conversion)`](https://docs.python.org/3/library/functions.html#int)\n",
        "- Coma flotante: [`float(dato_para_conversion)`](https://docs.python.org/3/library/functions.html#float)\n",
        "- String: [`str(dato_para_conversion)`](https://docs.python.org/3/library/functions.html#func-str)\n",
        "- Booleano: [`bool(dato_para_conversion)`](https://docs.python.org/3/library/functions.html#bool)"
      ],
      "metadata": {
        "id": "TOlegATj1Jfp"
      }
    },
    {
      "cell_type": "code",
      "source": [
        "año_de_admicion = input('ingresa el año de admicion ')\n",
        "type(año_de_admicion)"
      ],
      "metadata": {
        "id": "M2ueeH6l_NMe",
        "outputId": "2829a9e2-e154-407c-f840-1445d42897e6",
        "colab": {
          "base_uri": "https://localhost:8080/"
        }
      },
      "execution_count": null,
      "outputs": [
        {
          "name": "stdout",
          "output_type": "stream",
          "text": [
            "ingresa el año de admicion 2022\n"
          ]
        },
        {
          "output_type": "execute_result",
          "data": {
            "text/plain": [
              "str"
            ]
          },
          "metadata": {},
          "execution_count": 17
        }
      ]
    },
    {
      "cell_type": "code",
      "source": [
        "año_de_salida = input('ingresa el año de salida')\n",
        "type(año_de_salida)"
      ],
      "metadata": {
        "id": "xfWwuViK_NUn",
        "outputId": "e33ded28-2dc5-4b4c-bd08-f4a39b135813",
        "colab": {
          "base_uri": "https://localhost:8080/"
        }
      },
      "execution_count": null,
      "outputs": [
        {
          "name": "stdout",
          "output_type": "stream",
          "text": [
            "ingresa el año de salida2025\n"
          ]
        },
        {
          "output_type": "execute_result",
          "data": {
            "text/plain": [
              "str"
            ]
          },
          "metadata": {},
          "execution_count": 18
        }
      ]
    },
    {
      "cell_type": "code",
      "source": [
        "año_de_admicion + año_de_salida"
      ],
      "metadata": {
        "id": "uFCHDyew_NZm",
        "outputId": "76c7d936-73cb-4bcc-b613-cb688a1376c2",
        "colab": {
          "base_uri": "https://localhost:8080/",
          "height": 35
        }
      },
      "execution_count": null,
      "outputs": [
        {
          "output_type": "execute_result",
          "data": {
            "text/plain": [
              "'20222025'"
            ],
            "application/vnd.google.colaboratory.intrinsic+json": {
              "type": "string"
            }
          },
          "metadata": {},
          "execution_count": 19
        }
      ]
    },
    {
      "cell_type": "code",
      "source": [
        "print(f'\\tEl año de admicion fue {año_de_admicion} \\n\\t y el año de salida fue {año_de_salida}')"
      ],
      "metadata": {
        "id": "C4aWXTWFY1tG",
        "outputId": "0e943fe8-6292-4527-be1a-2325891124c8",
        "colab": {
          "base_uri": "https://localhost:8080/"
        }
      },
      "execution_count": null,
      "outputs": [
        {
          "output_type": "stream",
          "name": "stdout",
          "text": [
            "\tEl año de admicion fue 2022 \n",
            "\t y el año de salida fue 2025\n"
          ]
        }
      ]
    },
    {
      "cell_type": "code",
      "source": [
        "type(año_de_admicion)"
      ],
      "metadata": {
        "id": "cwqMMdPvZ5P6",
        "outputId": "3e830159-f024-4b1d-b33e-4c3148b6690c",
        "colab": {
          "base_uri": "https://localhost:8080/"
        }
      },
      "execution_count": null,
      "outputs": [
        {
          "output_type": "execute_result",
          "data": {
            "text/plain": [
              "str"
            ]
          },
          "metadata": {},
          "execution_count": 21
        }
      ]
    },
    {
      "cell_type": "code",
      "source": [
        "chr(12)"
      ],
      "metadata": {
        "id": "2vyTkD8GbVD7",
        "outputId": "e3b66012-4acf-4a7d-9385-32d45be68422",
        "colab": {
          "base_uri": "https://localhost:8080/",
          "height": 35
        }
      },
      "execution_count": null,
      "outputs": [
        {
          "output_type": "execute_result",
          "data": {
            "text/plain": [
              "'\\x0c'"
            ],
            "application/vnd.google.colaboratory.intrinsic+json": {
              "type": "string"
            }
          },
          "metadata": {},
          "execution_count": 28
        }
      ]
    },
    {
      "cell_type": "code",
      "source": [
        "nombre = \"Ana María\"\n",
        "edad = 17\n",
        "print(f\"El nombre de la alumna es {nombre} y su edad es {edad} años.\")"
      ],
      "metadata": {
        "id": "hm9oa7N3H87x",
        "outputId": "b8cee43d-3292-4a09-b2b0-bb9d1ae68aee",
        "colab": {
          "base_uri": "https://localhost:8080/"
        }
      },
      "execution_count": null,
      "outputs": [
        {
          "output_type": "stream",
          "name": "stdout",
          "text": [
            "El nombre de la alumna es Ana María y su edad es 17 años.\n"
          ]
        }
      ]
    },
    {
      "cell_type": "code",
      "source": [],
      "metadata": {
        "id": "mebFadgKWDfi"
      },
      "execution_count": null,
      "outputs": []
    },
    {
      "cell_type": "code",
      "source": [
        "nombre_alumno = 'Penélope Camacho'\n",
        "print('Nombre del alumno: %s camara' %(nombre_alumno))"
      ],
      "metadata": {
        "id": "0qXOnUHaJ_Ac",
        "outputId": "6d6c7dc6-8fd4-4b02-d40d-c2313a38340a",
        "colab": {
          "base_uri": "https://localhost:8080/"
        }
      },
      "execution_count": null,
      "outputs": [
        {
          "output_type": "stream",
          "name": "stdout",
          "text": [
            "Nombre del alumno: Penélope Camacho camara\n"
          ]
        }
      ]
    },
    {
      "cell_type": "code",
      "source": [
        "nombre_persona= ' Juan Fernandez'\n",
        "edad_persona= 18\n",
        "promedio_persona= 89.9\n",
        "print('El nombre de la persona es%s, su edad es %d, y su promedio es %0.1f' % ( nombre_persona,edad_persona,promedio_persona))"
      ],
      "metadata": {
        "id": "asFv6WWWRPuK",
        "outputId": "911bc7b1-1e75-4b6d-dccc-36ab709ec7aa",
        "colab": {
          "base_uri": "https://localhost:8080/"
        }
      },
      "execution_count": null,
      "outputs": [
        {
          "output_type": "stream",
          "name": "stdout",
          "text": [
            "El nombre de la persona es Juan Fernandez, su edad es 18, y su promedio es 89.9\n"
          ]
        }
      ]
    },
    {
      "cell_type": "code",
      "source": [
        "print(\"Estudiar es un esfuerzo constante,\\nEs como cultivar una planta,\\nNecesitamos dedicación y paciencia,\\nPara ver madurar el fruto.\")"
      ],
      "metadata": {
        "id": "ZVK3sse5T5Pl",
        "outputId": "886bb230-97b9-4063-9028-debcdd755d99",
        "colab": {
          "base_uri": "https://localhost:8080/"
        }
      },
      "execution_count": null,
      "outputs": [
        {
          "output_type": "stream",
          "name": "stdout",
          "text": [
            "Estudiar es un esfuerzo constante,\n",
            "Es como cultivar una planta,\n",
            "Necesitamos dedicación y paciencia,\n",
            "Para ver madurar el fruto.\n"
          ]
        }
      ]
    },
    {
      "cell_type": "code",
      "source": [
        "print('Cantidad\\tCalidad\\n5)muestras\\tAlta\\n3)muestras\\tBaja')"
      ],
      "metadata": {
        "id": "te-Qky1yT--G",
        "outputId": "12d6df61-329c-4a70-ed90-d4c834fc80e4",
        "colab": {
          "base_uri": "https://localhost:8080/"
        }
      },
      "execution_count": null,
      "outputs": [
        {
          "output_type": "stream",
          "name": "stdout",
          "text": [
            "Cantidad\tCalidad\n",
            "5)muestras\tAlta\n",
            "3)muestras\tBaja\n"
          ]
        }
      ]
    },
    {
      "cell_type": "markdown",
      "source": [
        "Trataremos de representar mejor ahora el resultado de la transformación que obtuvimos. Nosotros podemos formatear y presentar nuestro resultado mezclando strings con valores no textuales.\n",
        "\n",
        "Para ello utilizamos la estructura de formatación `f` con strings."
      ],
      "metadata": {
        "id": "yNI2-XTbB3aS"
      }
    },
    {
      "cell_type": "code",
      "source": [],
      "metadata": {
        "id": "keJjA5N9_K5i"
      },
      "execution_count": null,
      "outputs": []
    },
    {
      "cell_type": "markdown",
      "source": [
        "# Estructuras condicionales"
      ],
      "metadata": {
        "id": "NwRaiHHHhhyl"
      }
    },
    {
      "cell_type": "code",
      "source": [],
      "metadata": {
        "id": "pa4gLncu-mvU"
      },
      "execution_count": null,
      "outputs": []
    },
    {
      "cell_type": "code",
      "source": [],
      "metadata": {
        "id": "_cWRmDiE-m4p"
      },
      "execution_count": null,
      "outputs": []
    },
    {
      "cell_type": "markdown",
      "source": [
        "## `IF` y `ELSE`\n",
        "\n",
        "Los comandos `if` y `else` son dos estructuras condicionales. El comando `if` ejecutará el bloque de comandos en caso de que la condición citada sea  **verdadera**. El comando `else` ejecutará el bloque de comandos en el caso de que la condicional de `if` sea **falsa**."
      ],
      "metadata": {
        "id": "qXZqg9aYEhAh"
      }
    },
    {
      "cell_type": "markdown",
      "source": [
        "El comando `if` es una palabra clave en Python que significa \"si\". Este se emplea para conformar la estructura condicional, que te permite verificar si una determinada condición es verdadera o falsa e, inmediatamente después, ejecute un bloque de código específico dependiendo del resultado de la verificación. La sintaxis para usar el comando `if` es:\n",
        "\n",
        "\n",
        "\n",
        "```\n",
        "if condicion:\n",
        "    # Realiza algo\n",
        "```\n",
        "\n"
      ],
      "metadata": {
        "id": "EIhlqHXd2Gil"
      }
    },
    {
      "cell_type": "code",
      "source": [],
      "metadata": {
        "id": "S2S6XAFz-czM"
      },
      "execution_count": null,
      "outputs": []
    },
    {
      "cell_type": "code",
      "source": [],
      "metadata": {
        "id": "YHkwMMyY-c1r"
      },
      "execution_count": null,
      "outputs": []
    },
    {
      "cell_type": "markdown",
      "source": [
        "Ya el comando `else` en Python se usa en junción con la palabra clave `if` para formar una estructura condicional. la sintaxis para usar el `else` es:\n",
        "\n",
        "```\n",
        "if condicion:\n",
        "  # codigo en caso de que sea verdad\n",
        "else:\n",
        "  # codigo en caso de que sea falso\n",
        "```\n",
        "\n",
        "el comando `else` se ejecuta cuando la condición verificada por el `if` es evaluada como `False`."
      ],
      "metadata": {
        "id": "27RW2v_sIKct"
      }
    },
    {
      "cell_type": "code",
      "source": [],
      "metadata": {
        "id": "ZTfNJd_f-aOq"
      },
      "execution_count": null,
      "outputs": []
    },
    {
      "cell_type": "code",
      "source": [],
      "metadata": {
        "id": "LPOb5MkV-btq"
      },
      "execution_count": null,
      "outputs": []
    },
    {
      "cell_type": "markdown",
      "source": [
        "---\n",
        "**Situación:**\n",
        "\n",
        "Recibiremos el promedio de la nota de los estudiantes y necesitamos de un algoritmo que ejecute el análisis y determine si el estudiante fue **Aprobado** o **Reprobado**, mostrando un mensaje del resultado. Para ser aprobado, el promedio necesita ser igual o superior a 7.0."
      ],
      "metadata": {
        "id": "BqORg85XX-Nl"
      }
    },
    {
      "cell_type": "code",
      "source": [],
      "metadata": {
        "id": "UukCN4AQ-YYW"
      },
      "execution_count": null,
      "outputs": []
    },
    {
      "cell_type": "code",
      "source": [],
      "metadata": {
        "id": "X0o8FW1H-YkA"
      },
      "execution_count": null,
      "outputs": []
    },
    {
      "cell_type": "markdown",
      "source": [
        "Ahora, nuestra institución educativa estableció que las personas que tengan el promedio entre 5.0 y 7.0 pueden participar del curso de **Recuperación** durante las vacaciones para lograr aprobar.\n",
        "\n",
        "Entonces podemos apoyarnos en un conjunto de `if`s para poder estructurar esta nueva condición."
      ],
      "metadata": {
        "id": "bD9O17HB6LUo"
      }
    },
    {
      "cell_type": "code",
      "source": [],
      "metadata": {
        "id": "G9cJ5O9--W52"
      },
      "execution_count": null,
      "outputs": []
    },
    {
      "cell_type": "code",
      "source": [],
      "metadata": {
        "id": "iU-pjoJt-W89"
      },
      "execution_count": null,
      "outputs": []
    },
    {
      "cell_type": "markdown",
      "source": [
        "Observa que en casos con 3 situaciones como este necesitamos definir bien nuestras condiciones. Pues, si realizamos una condición con `else` al final, este irá a considerar solamente la condición `if` inmediatamente anterior para generar la salida en caso de que el resultado de su operación lógica sea **falso** dando como resultado, dos o más ejecuciones.\n",
        "\n",
        "Por ejemplo:"
      ],
      "metadata": {
        "id": "D5e2mByjvycO"
      }
    },
    {
      "cell_type": "code",
      "source": [],
      "metadata": {
        "id": "C21JmOuK-VU8"
      },
      "execution_count": null,
      "outputs": []
    },
    {
      "cell_type": "code",
      "source": [],
      "metadata": {
        "id": "bHiVgnPs-Vlv"
      },
      "execution_count": null,
      "outputs": []
    },
    {
      "cell_type": "markdown",
      "source": [
        "## `ELIF`\n",
        "\n",
        "El comando `elif` es una palabra clave en Python que significa \"si no, si\" y lo podemos considerar una *contracción* entre `else` e `if`. Se utiliza en conjunto con la palabra clave `if` para formar una estructura condicional en cadena."
      ],
      "metadata": {
        "id": "04T5g-7h4zWx"
      }
    },
    {
      "cell_type": "markdown",
      "source": [
        "la sintaxis para utilizar el comando `elif` es:\n",
        "\n",
        "```\n",
        "if condicion1:\n",
        "    # Realiza algo\n",
        "elif condicion2:\n",
        "    # Realiza otra cosa\n",
        "elif condicion3:\n",
        "    # Realiza otra cosa\n",
        "else:\n",
        "    # Realiza algo diferente\n",
        "```\n",
        "\n",
        "El comando `elif` permite que puedas verificar varias condiciones en cadena, economizando espacio en tu código. Si la primera condición se evalúa como `False`, el interpretador de Python evaluará la próxima condición con el `elif`. Ello continuará hasta que una condición sea evaluada como `True` o hasta que el `else` sea alcazado. Si ninguna de las condiciones es evaluada como `True`, la ejecución del código del comando `else` será iniciada."
      ],
      "metadata": {
        "id": "rNBHr5mm1Lm6"
      }
    },
    {
      "cell_type": "markdown",
      "source": [
        "Vamos a emplear el mismo caso anterior:"
      ],
      "metadata": {
        "id": "MVoykFbB4bd4"
      }
    },
    {
      "cell_type": "code",
      "source": [],
      "metadata": {
        "id": "QFamB78s-TW_"
      },
      "execution_count": null,
      "outputs": []
    },
    {
      "cell_type": "code",
      "source": [],
      "metadata": {
        "id": "nuScbnHF-TfK"
      },
      "execution_count": null,
      "outputs": []
    },
    {
      "cell_type": "markdown",
      "source": [
        "## Operadores\n",
        "\n",
        "Durante la construcción de comandos a veces necesitamos de una elaboración mayor de la expresión condicional, necesitando que algunos operadores lógicos se encuentren integrados."
      ],
      "metadata": {
        "id": "Tf1wSOem6iwZ"
      }
    },
    {
      "cell_type": "markdown",
      "source": [
        "### `AND`, `OR`, `NOT`\n",
        "\n",
        "Los operadores lógicos `and`, `or` y `not` son usados para combinar expresiones lógicas en Python. Ellos son usados frecuentemente en conjunto con el comando `if` para crear estructuras condicionales más complejas.\n"
      ],
      "metadata": {
        "id": "GFIZnRWXGPWO"
      }
    },
    {
      "cell_type": "markdown",
      "source": [
        "- `AND` es usado para verificar si dos condiciones son verdaderas. La expresión lógica¹ `x and y` se evalúa como `True` tan solo si **ambas condiciones `x` y `y` son verdaderas**, y como `False` en caso contrario.\n",
        "\n",
        "- `OR` es usado para verificar si al menos una de las condiciones es verdadera. La expresión lógica `x or y` se evalúa como `True` **si al menos una de las condiciones `x` o `y` es verdadera**, y como `False` si ambas condiciones son falsas.\n",
        "\n",
        "- `NOT` es usado para **negar una condición**. La expresión lógica `not x` es evaluada como `True` si la condición x es falsa, y como `False` si la condición x es verdadera.\n",
        "\n",
        "¹ Una expresión lógica es una declaración que puede ser evaluada como verdadera o falsa. Ella se compone por operandos lógicos² y por operadores lógicos³, que son usados ​​para combinar varias expresiones lógicas en una única expresión.\n",
        "\n",
        "² Los operandos lógicos son los elementos que son comparados o evaluados en una expresión lógica. Ellos son generalmente valores verdaderos o falsos, pero también pueden ser expresiones lógicas más complejas. En Python, los operandos lógicos son los valores `True` y `False`.\n",
        "\n",
        "³ Los operadores lógicos son ls símbolos o palabras clave que son usados ​​para combinar varias expresiones lógicas en una única expresión. En Python, los operadores lógicos son `and`, `or` y `not`, bien como las palabras clave `if`, `elif` e `else`."
      ],
      "metadata": {
        "id": "Z_dgAoHXJbzB"
      }
    },
    {
      "cell_type": "markdown",
      "source": [
        "> Operadores lógicos más comunes\n",
        "\n",
        "|a|b|AND|OR|NOT|\n",
        "|-|-|-|-|-|\n",
        "|0|0|0|0|1\n",
        "|0|1|0|1|-\n",
        "|1|0|0|1|-\n",
        "|1|1|1|1|0\n"
      ],
      "metadata": {
        "id": "2E5aUogf-49u"
      }
    },
    {
      "cell_type": "code",
      "source": [],
      "metadata": {
        "id": "DFKmpvmS-Pa6"
      },
      "execution_count": null,
      "outputs": []
    },
    {
      "cell_type": "code",
      "source": [],
      "metadata": {
        "id": "W5BIrpOD-PeI"
      },
      "execution_count": null,
      "outputs": []
    },
    {
      "cell_type": "code",
      "source": [],
      "metadata": {
        "id": "fpDhYxq4-PiM"
      },
      "execution_count": null,
      "outputs": []
    },
    {
      "cell_type": "markdown",
      "source": [
        "### `IN`\n",
        "\n",
        "Es usado para verificar si un elemento está presente en una lista, tupla u otra colección de conjunto. La expresión `x in y` se evalúa como `True` si el elemento `x` esta presente na variávelen la variable de conjunto `y`, y como `False` en caso contrario."
      ],
      "metadata": {
        "id": "w7EXG1dhWtja"
      }
    },
    {
      "cell_type": "markdown",
      "source": [
        "Podemos verificarlo con variables de texto.\n",
        "\n",
        "---\n",
        "\n",
        "**Situación:**\n",
        "\n",
        "En la escuela nos entregaron una lista con nombres de estudiantes que fueron aprobados según el promedio del semestre, pero es necesario verificar si algunos nombres están en esa lista para confirmar que los datos estén correctos.\n",
        "\n",
        "La lista distribuida puede ser observada a continuación:\n",
        "\n",
        "```\n",
        "lista = 'Juan Pérez, María González, Pedro Rodríguez, Ana López, Carlos Martínez,\n",
        "    Laura Sánchez, José García, Elena Fernández, Luis Morales, Carmen Torres,\n",
        "    David Ruiz, Isabel Ramírez, Javier Díaz, Sara Herrera, Miguel Castro,\n",
        "    Patricia Ortega, Francisco Vargas, Marta Jiménez, Manuel Medina, Rosa Molina,\n",
        "    Alejandro Silva, Silvia Ruiz, Andrés Torres, Natalia Soto, Diego Guerrero,\n",
        "    Paula Ríos, Ricardo Navarro, Alicia Cordero, Carlos Vidal, Lorena Gómez'\n",
        "```\n",
        "\n",
        "Los nombres que necesitas verificar son los siguientes:\n",
        "\n",
        "```\n",
        "nombre_1 = 'Miguel Castro'\n",
        "nombre_2 = 'Marcelo Noguera'\n",
        "```"
      ],
      "metadata": {
        "id": "enJNp6JenQbq"
      }
    },
    {
      "cell_type": "code",
      "source": [
        "precio_1 = float( input( 'ingrese el presio del produto-1'))\n",
        "precio_2 = float( input( 'ingrese el presio del produto-2'))\n",
        "precio_3 = float( input( 'ingrese el presio del produto-3'))\n",
        "\n",
        "if precio_1 < precio_2 and precio_1 < precio_3:\n",
        "    print('precio_1 es menor')\n",
        "elif precio_2 < precio_1 and precio_2 < precio_3:\n",
        "    print('precio_2 es menor')\n",
        "else\n",
        "    print('precio_3 es menor')\n",
        "\n",
        "\n",
        "\n",
        "precio_1 = float( input( 'ingrese el presio del produto-1'))\n",
        "precio_2 = float( input( 'ingrese el presio del produto-2'))\n",
        "precio_3 = float( input( 'ingrese el presio del produto-3'))"
      ],
      "metadata": {
        "id": "gPPN9BCT-Mki",
        "outputId": "485e4a47-0e57-4dea-d288-0e749baa6d7a",
        "colab": {
          "base_uri": "https://localhost:8080/"
        }
      },
      "execution_count": null,
      "outputs": [
        {
          "output_type": "stream",
          "name": "stdout",
          "text": [
            "ingrese el presio del produto-145\n",
            "ingrese el presio del produto-267\n",
            "ingrese el presio del produto-31\n",
            "precio_3 es menor\n"
          ]
        }
      ]
    },
    {
      "cell_type": "code",
      "source": [
        "precio_1 = float( input( 'ingrese el presio del produto-1'))\n",
        "precio_2 = float( input( 'ingrese el presio del produto-2'))\n",
        "precio_3 = float( input( 'ingrese el presio del produto-3'))\n",
        "\n",
        "if precio_1 == precio_2:\n",
        "  print('El precio 1 y 2 son iguales')\n",
        "elif precio_2== precio_3:\n",
        "  print('El precio 2 y 3 son iguales')\n",
        "else:\n",
        "  print('El precio 1 y 3 son iguales')\n",
        "\n",
        "if precio_1 < precio_2 and precio_1 < precio_3:\n",
        "  print('El precio 1 mas baratos')\n",
        "elif precio_2 < precio_1 and precio_2 < precio_3:\n",
        "  print('El precio 2 mas baratos')\n",
        "else:\n",
        "  print('El precio 3 mas barato')\n"
      ],
      "metadata": {
        "id": "GINbG3Fa-Mnb",
        "outputId": "e5a6c1b5-9884-4090-900d-39cba8adf8b5",
        "colab": {
          "base_uri": "https://localhost:8080/"
        }
      },
      "execution_count": null,
      "outputs": [
        {
          "output_type": "stream",
          "name": "stdout",
          "text": [
            "ingrese el presio del produto-1 4\n",
            "ingrese el presio del produto-2 5\n",
            "ingrese el presio del produto-3 5\n",
            "El precio 2 y 3 son iguales\n",
            "El precio 1 mas baratos\n"
          ]
        }
      ]
    },
    {
      "cell_type": "code",
      "source": [
        "num_1 = float( input( 'ingrese el primer numero'))\n",
        "num_2 = float( input( 'ingrese el segundo numero'))\n",
        "num_3 = float( input( 'ingrese el tercer numero'))\n",
        "\n",
        "\n",
        "if num_1 > num_2 and num_1 > num_3:\n",
        "    if num_2 > num_3:\n",
        "        print(f'{num_1},{num_2},{num_3}')\n",
        "    else:\n",
        "        print(f'{num_1},{num_3},{num_2}')\n",
        "elif num_2 > num_1 and num_2 > num_3:\n",
        "    if num_1 > num_3:\n",
        "        print(f'{num_2},{num_1},{num_3}')\n",
        "    else:\n",
        "        print(f'{num_2},{num_3},{num_1}')\n",
        "else: # Si ni num_1 ni num_2 son los mayores, entonces num_3 debe serlo\n",
        "    if num_1 > num_2:\n",
        "        print(f'{num_3},{num_1},{num_2}')\n",
        "    else:\n",
        "        print(f'{num_3},{num_2},{num_1}')"
      ],
      "metadata": {
        "id": "hk-RhNRT-Mp7",
        "outputId": "cc2e7344-a578-4b44-e08c-bade355fbecb",
        "colab": {
          "base_uri": "https://localhost:8080/",
          "height": 356
        }
      },
      "execution_count": null,
      "outputs": [
        {
          "output_type": "error",
          "ename": "KeyboardInterrupt",
          "evalue": "Interrupted by user",
          "traceback": [
            "\u001b[0;31m---------------------------------------------------------------------------\u001b[0m",
            "\u001b[0;31mKeyboardInterrupt\u001b[0m                         Traceback (most recent call last)",
            "\u001b[0;32m<ipython-input-23-7a9560b6fecc>\u001b[0m in \u001b[0;36m<cell line: 0>\u001b[0;34m()\u001b[0m\n\u001b[0;32m----> 1\u001b[0;31m \u001b[0mnum_1\u001b[0m \u001b[0;34m=\u001b[0m \u001b[0mfloat\u001b[0m\u001b[0;34m(\u001b[0m \u001b[0minput\u001b[0m\u001b[0;34m(\u001b[0m \u001b[0;34m'ingrese el primer numero'\u001b[0m\u001b[0;34m)\u001b[0m\u001b[0;34m)\u001b[0m\u001b[0;34m\u001b[0m\u001b[0;34m\u001b[0m\u001b[0m\n\u001b[0m\u001b[1;32m      2\u001b[0m \u001b[0mnum_2\u001b[0m \u001b[0;34m=\u001b[0m \u001b[0mfloat\u001b[0m\u001b[0;34m(\u001b[0m \u001b[0minput\u001b[0m\u001b[0;34m(\u001b[0m \u001b[0;34m'ingrese el segundo numero'\u001b[0m\u001b[0;34m)\u001b[0m\u001b[0;34m)\u001b[0m\u001b[0;34m\u001b[0m\u001b[0;34m\u001b[0m\u001b[0m\n\u001b[1;32m      3\u001b[0m \u001b[0mnum_3\u001b[0m \u001b[0;34m=\u001b[0m \u001b[0mfloat\u001b[0m\u001b[0;34m(\u001b[0m \u001b[0minput\u001b[0m\u001b[0;34m(\u001b[0m \u001b[0;34m'ingrese el tercer numero'\u001b[0m\u001b[0;34m)\u001b[0m\u001b[0;34m)\u001b[0m\u001b[0;34m\u001b[0m\u001b[0;34m\u001b[0m\u001b[0m\n\u001b[1;32m      4\u001b[0m \u001b[0;34m\u001b[0m\u001b[0m\n\u001b[1;32m      5\u001b[0m \u001b[0;34m\u001b[0m\u001b[0m\n",
            "\u001b[0;32m/usr/local/lib/python3.11/dist-packages/ipykernel/kernelbase.py\u001b[0m in \u001b[0;36mraw_input\u001b[0;34m(self, prompt)\u001b[0m\n\u001b[1;32m   1175\u001b[0m                 \u001b[0;34m\"raw_input was called, but this frontend does not support input requests.\"\u001b[0m\u001b[0;34m\u001b[0m\u001b[0;34m\u001b[0m\u001b[0m\n\u001b[1;32m   1176\u001b[0m             )\n\u001b[0;32m-> 1177\u001b[0;31m         return self._input_request(\n\u001b[0m\u001b[1;32m   1178\u001b[0m             \u001b[0mstr\u001b[0m\u001b[0;34m(\u001b[0m\u001b[0mprompt\u001b[0m\u001b[0;34m)\u001b[0m\u001b[0;34m,\u001b[0m\u001b[0;34m\u001b[0m\u001b[0;34m\u001b[0m\u001b[0m\n\u001b[1;32m   1179\u001b[0m             \u001b[0mself\u001b[0m\u001b[0;34m.\u001b[0m\u001b[0m_parent_ident\u001b[0m\u001b[0;34m[\u001b[0m\u001b[0;34m\"shell\"\u001b[0m\u001b[0;34m]\u001b[0m\u001b[0;34m,\u001b[0m\u001b[0;34m\u001b[0m\u001b[0;34m\u001b[0m\u001b[0m\n",
            "\u001b[0;32m/usr/local/lib/python3.11/dist-packages/ipykernel/kernelbase.py\u001b[0m in \u001b[0;36m_input_request\u001b[0;34m(self, prompt, ident, parent, password)\u001b[0m\n\u001b[1;32m   1217\u001b[0m             \u001b[0;32mexcept\u001b[0m \u001b[0mKeyboardInterrupt\u001b[0m\u001b[0;34m:\u001b[0m\u001b[0;34m\u001b[0m\u001b[0;34m\u001b[0m\u001b[0m\n\u001b[1;32m   1218\u001b[0m                 \u001b[0;31m# re-raise KeyboardInterrupt, to truncate traceback\u001b[0m\u001b[0;34m\u001b[0m\u001b[0;34m\u001b[0m\u001b[0m\n\u001b[0;32m-> 1219\u001b[0;31m                 \u001b[0;32mraise\u001b[0m \u001b[0mKeyboardInterrupt\u001b[0m\u001b[0;34m(\u001b[0m\u001b[0;34m\"Interrupted by user\"\u001b[0m\u001b[0;34m)\u001b[0m \u001b[0;32mfrom\u001b[0m \u001b[0;32mNone\u001b[0m\u001b[0;34m\u001b[0m\u001b[0;34m\u001b[0m\u001b[0m\n\u001b[0m\u001b[1;32m   1220\u001b[0m             \u001b[0;32mexcept\u001b[0m \u001b[0mException\u001b[0m\u001b[0;34m:\u001b[0m\u001b[0;34m\u001b[0m\u001b[0;34m\u001b[0m\u001b[0m\n\u001b[1;32m   1221\u001b[0m                 \u001b[0mself\u001b[0m\u001b[0;34m.\u001b[0m\u001b[0mlog\u001b[0m\u001b[0;34m.\u001b[0m\u001b[0mwarning\u001b[0m\u001b[0;34m(\u001b[0m\u001b[0;34m\"Invalid Message:\"\u001b[0m\u001b[0;34m,\u001b[0m \u001b[0mexc_info\u001b[0m\u001b[0;34m=\u001b[0m\u001b[0;32mTrue\u001b[0m\u001b[0;34m)\u001b[0m\u001b[0;34m\u001b[0m\u001b[0;34m\u001b[0m\u001b[0m\n",
            "\u001b[0;31mKeyboardInterrupt\u001b[0m: Interrupted by user"
          ]
        }
      ]
    },
    {
      "cell_type": "code",
      "source": [
        "turno_mañana =\"mañana\"\n",
        "turno_tarde = \"tarde\"\n",
        "turno_noche = \"noche\"\n",
        "\n",
        "turno_de_estudio= input('En Que turno estudias, mañana,tarde,noche ')\n",
        "if turno_de_estudio == turno_mañana:\n",
        "  print('buenos dias')\n",
        "elif turno_de_estudio == turno_tarde:\n",
        "  print('Buenas tardes')\n",
        "elif turno_de_estudio == turno_noche:\n",
        "  print('Buenas noches')\n",
        "else:\n",
        "  print('turno no valido')\n"
      ],
      "metadata": {
        "id": "DfaBT8HbuGDt",
        "outputId": "d4ae30ea-1fde-4ad0-b8a7-a482f277447e",
        "colab": {
          "base_uri": "https://localhost:8080/"
        }
      },
      "execution_count": null,
      "outputs": [
        {
          "output_type": "stream",
          "name": "stdout",
          "text": [
            "En Que turno estudias, mañana,tarde,noche er\n",
            "turno no valido\n"
          ]
        }
      ]
    },
    {
      "cell_type": "code",
      "source": [
        "numero_usuario= int (input(\" Ingrese un numero entero\"))\n",
        "if numero_usuario % 2 == 0:\n",
        "  print('El numero es par')\n",
        "else:\n",
        "  print('El numero es impar')\n"
      ],
      "metadata": {
        "id": "vMERhAHjLGEF",
        "outputId": "99ef6554-155c-42ed-bf4a-01166ea0c52e",
        "colab": {
          "base_uri": "https://localhost:8080/"
        }
      },
      "execution_count": null,
      "outputs": [
        {
          "output_type": "stream",
          "name": "stdout",
          "text": [
            " Ingrese un numero entero3333333333333333333333334\n",
            "El numero es par\n"
          ]
        }
      ]
    },
    {
      "cell_type": "markdown",
      "source": [
        "# Estructuras de repetición"
      ],
      "metadata": {
        "id": "aL1vJPewvwvz"
      }
    },
    {
      "cell_type": "markdown",
      "source": [
        "Cuando tenemos que ejecutar un mismo bloque de comandos durante varias ocasiones no es nada práctico hacerlo a mano.\n",
        "\n",
        "**Situación**: Nos fue solicitado obtener e imprimir el promedio de 2 notas de **3 estudantes**:"
      ],
      "metadata": {
        "id": "VcPfCa8d-84t"
      }
    },
    {
      "cell_type": "code",
      "source": [
        "numero_usuario= input(\" Ingrese un numero\")\n",
        "numero_usuario= float (numero_usuario)\n",
        "\n",
        "if float(numero_usuario) == int (numero_usuario):\n",
        "  print('El numero es entero')\n",
        "else:\n",
        "  print('El numero es decimal')\n",
        "\n",
        "\n"
      ],
      "metadata": {
        "id": "xcx21IGT9qA0",
        "outputId": "9b26e421-dd27-4769-879d-a1f61ab04d02",
        "colab": {
          "base_uri": "https://localhost:8080/"
        }
      },
      "execution_count": null,
      "outputs": [
        {
          "output_type": "stream",
          "name": "stdout",
          "text": [
            " Ingrese un numero45\n",
            "El numero es entero\n"
          ]
        }
      ]
    },
    {
      "cell_type": "code",
      "source": [
        "type(numero_usuario)"
      ],
      "metadata": {
        "id": "Wtbiy9Ay9rGJ",
        "outputId": "274201f4-bfed-4594-fe05-e3afa032ad95",
        "colab": {
          "base_uri": "https://localhost:8080/"
        }
      },
      "execution_count": null,
      "outputs": [
        {
          "output_type": "execute_result",
          "data": {
            "text/plain": [
              "str"
            ]
          },
          "metadata": {},
          "execution_count": 13
        }
      ]
    },
    {
      "cell_type": "code",
      "source": [
        "from __future__ import division\n",
        "num_1 = input( 'ingrese el primer numero')\n",
        "num_2 = input( 'ingrese el segundo numero')\n",
        "num_1 = float(num_1)\n",
        "num_2= float(num_2)\n",
        "\n",
        "resultado=None\n",
        "operaciones_posibles= input('ingrese la operacion que desea realizar, suma, resta, multiplicacion, division')\n",
        "if operaciones_posibles == 'suma':\n",
        "  resultado= (num_1 + num_2)\n",
        "\n",
        "elif operaciones_posibles == 'resta':\n",
        "  resultado= (num_1 - num_2)\n",
        "\n",
        "\n",
        "\n",
        "elif operaciones_posibles == 'multiplicacion':\n",
        "  resultado= (num_1 * num_2)\n",
        "\n",
        "\n",
        "\n",
        "elif operaciones_posibles == 'division':\n",
        "  resultado= (num_1 / num_2)\n",
        "resultado_final= resultado\n",
        "print(f'El resultado final de la operacion es{resultado_final}')\n",
        "if resultado is not None:\n",
        "  resultado_entero= int(resultado)\n",
        "  if resultado_entero % 2 == 0:\n",
        "   print('El numero es par')\n",
        "  else:\n",
        "   print('El numero es impar')\n",
        "\n",
        "if resultado > 0:\n",
        "  print('El numero es positivo')\n",
        "elif resultado < 0:\n",
        "    print('El numero es negativo')\n",
        "else:\n",
        "  print('El numero es cero')\n",
        "\n",
        "if float(resultado) == int (resultado):\n",
        "  print('El numero es entero')\n",
        "else:\n",
        "  print('El numero es decimal')\n",
        "\n",
        "\n",
        "\n",
        "\n",
        "\n"
      ],
      "metadata": {
        "id": "n2iuMhh4Mct0",
        "outputId": "2ba068b0-d858-4ebb-df0a-34f4ab02cd08",
        "colab": {
          "base_uri": "https://localhost:8080/"
        }
      },
      "execution_count": null,
      "outputs": [
        {
          "output_type": "stream",
          "name": "stdout",
          "text": [
            "ingrese el primer numero45\n",
            "ingrese el segundo numero56\n",
            "ingrese la operacion que desea realizar, suma, resta, multiplicacion, divisionmultiplicacion\n",
            "El resultado final de la operacion es2520.0\n",
            "El numero es par\n",
            "El numero es positivo\n",
            "El numero es entero\n"
          ]
        }
      ]
    },
    {
      "cell_type": "code",
      "source": [
        "tipo_combustible = input(\"¿Qué combustible compró? (E para etanol, D para diésel): \").upper()\n",
        "\n",
        "if tipo_combustible == 'E':\n",
        "   cantidad_litros = float(input(\"Ingrese la cantidad de litros de etanol vendidos: \"))\n",
        "   if cantidad_litros <= 15:\n",
        "      costo = (cantidad_litros * 1.70)\n",
        "      print(f\"El costo de la venta de {cantidad_litros} litros de etanol es: ${costo}\")\n",
        "      costo_total = costo - (costo * 0.02)\n",
        "      print(f\"El costo de la venta de {cantidad_litros} litros de etanol con el descuento del 2% es de: ${costo_total}\")\n",
        "   elif cantidad_litros > 15:\n",
        "      costo = (cantidad_litros * 1.70)\n",
        "      costo_total = costo - (costo * 0.04)\n",
        "      print(f\"El costo de la venta de {cantidad_litros} litros de etanol es: ${costo_total}\")\n",
        "else:\n",
        " print(\"Tipo de combustible no válido.\")\n",
        "\n",
        "if tipo_combustible == 'D':\n",
        "  cantidad_litrosD = float(input(\"Ingrese la cantidad de litros deiesel vendidos: \"))\n",
        "  if cantidad_litrosD <= 15:\n",
        "      costoD = (cantidad_litrosD * 2.00)\n",
        "      print(f\"El costo de la venta de {cantidad_litrosD} litros de diesel es: ${costoD}\")\n",
        "      costo_totalD = costoD - (costoD * 0.03)\n",
        "      print(f\"El costo de la venta de {cantidad_litrosD} litros de diesel con el descuento del 2% es de: ${costo_totalD}\")\n",
        "  elif cantidad_litrosD > 15:\n",
        "      costoD = (cantidad_litrosD * 2.00)\n",
        "      costo_totalD = costoD - (costoD * 0.05)\n",
        "      print(f\"El costo de la venta de {cantidad_litrosD} litros de diesel es: ${costo_totalD}\")\n",
        "\n",
        "\n",
        "\n",
        "# else:\n",
        "#   print(\"Cantidad de litros no válida.\")\n",
        "\n",
        "\n",
        "# elif tipo_combustible == 'D':\n",
        "#     cantidad_litros = float(input(\"Ingrese la cantidad de litros de diésel vendidos: \"))\n",
        "# else:\n",
        "#     print(\"Tipo de combustible no válido.\")\n",
        "\n"
      ],
      "metadata": {
        "id": "Yfyz4anY9rIr",
        "outputId": "1aa186e4-2eec-4106-fce8-619c5359cc04",
        "colab": {
          "base_uri": "https://localhost:8080/"
        }
      },
      "execution_count": null,
      "outputs": [
        {
          "output_type": "stream",
          "name": "stdout",
          "text": [
            "¿Qué combustible compró? (E para etanol, D para diésel): d\n",
            "Tipo de combustible no válido.\n",
            "Ingrese la cantidad de litros deiesel vendidos: 50\n",
            "El costo de la venta de 50.0 litros de diesel es: $95.0\n"
          ]
        }
      ]
    },
    {
      "cell_type": "code",
      "source": [
        "ventas_2022 = input( 'ingrese la cantidad de ventas en el año 2022')\n",
        "ventas_2023 = input( 'ingrese la canitidad de ventas en el año 2023')\n",
        "ventas_2022 = int(ventas_2022)\n",
        "ventas_2023 = int(ventas_2023)\n",
        "\n",
        "variacion_porcentaje = ((ventas_2023 - ventas_2022) / ventas_2022) * 100\n",
        "# print(f'la variacion porcentual es {variacion_porcentaje}')\n",
        "if variacion_porcentaje > 20:\n",
        "  print('Bonificacion para el equipo de ventas' )\n",
        "elif 2 <= variacion_porcentaje <= 20:\n",
        "   print('Pequeña bonificación para el equipo de ventas')\n",
        "elif -10 <= variacion_porcentaje < 2:\n",
        "   print(\"planificación de políticas de incentivo a las ventas\")\n",
        "else:  # Si no cumple ninguna de las condiciones anteriores, es inferior a -10\n",
        "    print(\"recorte de gastos\")"
      ],
      "metadata": {
        "id": "QbHIolxmG-K8",
        "outputId": "8ac0df04-dc1d-4610-9b3f-cdb793e865af",
        "colab": {
          "base_uri": "https://localhost:8080/"
        }
      },
      "execution_count": null,
      "outputs": [
        {
          "output_type": "stream",
          "name": "stdout",
          "text": [
            "ingrese la cantidad de ventas en el año 20222\n",
            "ingrese la canitidad de ventas en el año 202389\n",
            "Bonificacion para el equipo de ventas\n"
          ]
        }
      ]
    },
    {
      "cell_type": "markdown",
      "source": [
        "Ahora imaginemos una situación en que no son tan solo 3 estudiantes, sino 100 estudiantes. No sería nada interesante repetir el mismo código 100 veces, sino **ejecutar el mismo código 100 veces**.\n",
        "\n",
        "¡Esta estructura la logramos construir con lazos de repetición!"
      ],
      "metadata": {
        "id": "9puIuvUbFSFX"
      }
    },
    {
      "cell_type": "markdown",
      "source": [
        "## `WHILE`"
      ],
      "metadata": {
        "id": "uLO9-aE4-wx8"
      }
    },
    {
      "cell_type": "code",
      "source": [
        "contador = 1\n",
        "while contador <= 3:\n",
        "    nota_1 = float(input(f\"Ingrese la nota 1 del estudiante {contador}: \"))\n",
        "    nota_2 = float(input(f\"Ingrese la nota 2 del estudiante {contador}: \"))\n",
        "    promedio = (nota_1 + nota_2) / 2\n",
        "    print(f'El promedio es {promedio}')\n",
        "    contador += 1"
      ],
      "metadata": {
        "id": "SOk2PAtSP2pD",
        "outputId": "361038fb-d8ef-4131-ca70-e6f9ad5f3147",
        "colab": {
          "base_uri": "https://localhost:8080/"
        }
      },
      "execution_count": null,
      "outputs": [
        {
          "output_type": "stream",
          "name": "stdout",
          "text": [
            "Ingrese la nota 1 del estudiante 1: 5\n",
            "Ingrese la nota 2 del estudiante 1: 8\n",
            "El promedio es 6.5\n",
            "Ingrese la nota 1 del estudiante 2: 9\n",
            "Ingrese la nota 2 del estudiante 2: 5\n",
            "El promedio es 7.0\n",
            "Ingrese la nota 1 del estudiante 3: 7\n",
            "Ingrese la nota 2 del estudiante 3: 4\n",
            "El promedio es 5.5\n"
          ]
        }
      ]
    },
    {
      "cell_type": "code",
      "source": [
        "num1= int (input(\"Ingrese el primer numero entero \"))\n",
        "num2= int (input(\"Ingrese el segundo numero entero \"))\n",
        "\n",
        "menor = min(num1, num2)\n",
        "mayor = max(num1, num2)\n",
        "\n",
        "if menor == mayor:\n",
        "    print(\"Los números son iguales.\")\n",
        "else:\n",
        "    for i in range(menor + 1, mayor):\n",
        "        print(i)\n",
        "\n",
        "#      print(i)\n",
        "# if num_s < num_p:\n",
        "#   for i in range(num_s,num_p):\n",
        "#      print(i)\n",
        "# else:\n",
        "#   print('Los numeros son iguales')\n",
        "\n",
        "\n",
        "\n",
        "#\n",
        "\n",
        "\n",
        "\n",
        "\n",
        "\n"
      ],
      "metadata": {
        "id": "lEcXsWIOZiiJ",
        "outputId": "68107bac-6c49-42aa-a931-acae299adac0",
        "colab": {
          "base_uri": "https://localhost:8080/"
        }
      },
      "execution_count": null,
      "outputs": [
        {
          "output_type": "stream",
          "name": "stdout",
          "text": [
            "Ingrese el primer numero entero 34\n",
            "Ingrese el segundo numero entero 56\n",
            "35\n",
            "36\n",
            "37\n",
            "38\n",
            "39\n",
            "40\n",
            "41\n",
            "42\n",
            "43\n",
            "44\n",
            "45\n",
            "46\n",
            "47\n",
            "48\n",
            "49\n",
            "50\n",
            "51\n",
            "52\n",
            "53\n",
            "54\n",
            "55\n"
          ]
        }
      ]
    },
    {
      "cell_type": "code",
      "source": [
        "dias = 0\n",
        "poblacion_a = 4\n",
        "poblacion_b = 10\n",
        "while poblacion_a < poblacion_b:\n",
        "    poblacion_a *= 1.03\n",
        "    poblacion_b *= 1.015\n",
        "    dias += 1\n",
        "print(dias)\n"
      ],
      "metadata": {
        "id": "EXQ-swKgipJY",
        "outputId": "ce50d780-a750-4020-c3b0-c0f59b6e3bd6",
        "colab": {
          "base_uri": "https://localhost:8080/"
        }
      },
      "execution_count": null,
      "outputs": [
        {
          "output_type": "stream",
          "name": "stdout",
          "text": [
            "63\n"
          ]
        }
      ]
    },
    {
      "cell_type": "code",
      "source": [
        "cantidad_datos_procesados = 0\n",
        "\n",
        "for i in range(15):\n",
        "    calificacion = int(input('Ingrese una calificación entre 0 y 5: '))\n",
        "    while calificacion < 0 or calificacion > 5:\n",
        "        print('La calificación es incorrecta, ingrese una calificación dentro del rango de 0 a 5:')\n",
        "        calificacion = int(input('Ingrese una calificación entre 0 y 5: '))\n",
        "    cantidad_datos_procesados += 1\n",
        "\n",
        "print(f'Se han procesado {cantidad_datos_procesados} calificaciones válidas.')"
      ],
      "metadata": {
        "id": "7KJtcrSo_Dfy",
        "outputId": "efc4fd49-187a-4ee6-8a33-ee45b1650b0d",
        "colab": {
          "base_uri": "https://localhost:8080/"
        }
      },
      "execution_count": null,
      "outputs": [
        {
          "output_type": "stream",
          "name": "stdout",
          "text": [
            "Ingrese una calificación entre 0 y 5: 1\n",
            "Ingrese una calificación entre 0 y 5: 2\n",
            "Ingrese una calificación entre 0 y 5: 3\n",
            "Ingrese una calificación entre 0 y 5: 4\n",
            "Ingrese una calificación entre 0 y 5: 5\n",
            "Ingrese una calificación entre 0 y 5: 5\n",
            "Ingrese una calificación entre 0 y 5: 4\n",
            "Ingrese una calificación entre 0 y 5: 3\n",
            "Ingrese una calificación entre 0 y 5: 2\n",
            "Ingrese una calificación entre 0 y 5: 1\n",
            "Ingrese una calificación entre 0 y 5: 1\n",
            "Ingrese una calificación entre 0 y 5: 2\n",
            "Ingrese una calificación entre 0 y 5: 3\n",
            "Ingrese una calificación entre 0 y 5: 4\n",
            "Ingrese una calificación entre 0 y 5: 5\n",
            "Se han procesado 15 calificaciones válidas.\n"
          ]
        }
      ]
    },
    {
      "cell_type": "code",
      "source": [
        "cantidad_datos_procesados= 0\n",
        "\n",
        "calificacion = int(input('ingrese una califiacion dentro del rango de 0 a 5'))\n",
        "for i in range(15):\n",
        "    while calificacion <0 or calificacion> 5:\n",
        "     print('La calificacion es incorrecta,ingrese una califiacion dentro del rango de 0 a 5')\n",
        "    calificacion = int(input('ingrese una califiacion dentro del rango de 0 a 5'))\n",
        "    cantidad_datos_procesados += 1\n",
        "print(cantidad_datos_procesados)\n",
        "\n",
        "\n",
        "\n",
        "\n"
      ],
      "metadata": {
        "id": "F6maCkJTxxfA",
        "outputId": "477d7dfb-ca1d-4a94-b1d8-8ce37e077a09",
        "colab": {
          "base_uri": "https://localhost:8080/"
        }
      },
      "execution_count": null,
      "outputs": [
        {
          "output_type": "stream",
          "name": "stdout",
          "text": [
            "ingrese una califiacion dentro del rango de 0 a 51\n",
            "ingrese una califiacion dentro del rango de 0 a 52\n",
            "ingrese una califiacion dentro del rango de 0 a 53\n",
            "ingrese una califiacion dentro del rango de 0 a 54\n",
            "ingrese una califiacion dentro del rango de 0 a 55\n",
            "ingrese una califiacion dentro del rango de 0 a 51\n",
            "ingrese una califiacion dentro del rango de 0 a 52\n",
            "ingrese una califiacion dentro del rango de 0 a 53\n",
            "ingrese una califiacion dentro del rango de 0 a 54\n",
            "ingrese una califiacion dentro del rango de 0 a 55\n",
            "ingrese una califiacion dentro del rango de 0 a 51\n",
            "ingrese una califiacion dentro del rango de 0 a 52\n",
            "ingrese una califiacion dentro del rango de 0 a 53\n",
            "ingrese una califiacion dentro del rango de 0 a 54\n",
            "ingrese una califiacion dentro del rango de 0 a 55\n",
            "ingrese una califiacion dentro del rango de 0 a 51\n",
            "15\n"
          ]
        }
      ]
    },
    {
      "cell_type": "code",
      "source": [
        "suma_temperaturas=0\n",
        "contador_temperaturas=0\n",
        "temperatura= 0\n",
        "temperatura= float(input('ingrese una temperatura en grados celcius'))\n",
        "while temperatura != -273:\n",
        "  suma_temperaturas += temperatura\n",
        "  contador_temperaturas += 1\n",
        "  temperatura= float(input('ingrese una temperatura en grados celcius'))\n",
        "  if temperatura == -273:\n",
        "   print('Fin de la lectura de temperaturas')\n",
        "   temperatura= float(input('ingrese una temperatura en grados celcius'))\n",
        "promedio= suma_temperaturas / contador_temperaturas\n",
        "print(f'El promedio de las temperaturas es {promedio}')\n",
        "\n"
      ],
      "metadata": {
        "id": "9MI5_cJBu44P",
        "outputId": "4763b03f-721a-4331-d086-97a618fc028b",
        "colab": {
          "base_uri": "https://localhost:8080/",
          "height": 228
        }
      },
      "execution_count": null,
      "outputs": [
        {
          "name": "stdout",
          "output_type": "stream",
          "text": [
            "ingrese una temperatura en grados celcius-273\n"
          ]
        },
        {
          "output_type": "error",
          "ename": "ZeroDivisionError",
          "evalue": "division by zero",
          "traceback": [
            "\u001b[0;31m---------------------------------------------------------------------------\u001b[0m",
            "\u001b[0;31mZeroDivisionError\u001b[0m                         Traceback (most recent call last)",
            "\u001b[0;32m<ipython-input-8-1dec52dde29c>\u001b[0m in \u001b[0;36m<cell line: 0>\u001b[0;34m()\u001b[0m\n\u001b[1;32m     10\u001b[0m    \u001b[0mprint\u001b[0m\u001b[0;34m(\u001b[0m\u001b[0;34m'Fin de la lectura de temperaturas'\u001b[0m\u001b[0;34m)\u001b[0m\u001b[0;34m\u001b[0m\u001b[0;34m\u001b[0m\u001b[0m\n\u001b[1;32m     11\u001b[0m    \u001b[0mtemperatura\u001b[0m\u001b[0;34m=\u001b[0m \u001b[0mfloat\u001b[0m\u001b[0;34m(\u001b[0m\u001b[0minput\u001b[0m\u001b[0;34m(\u001b[0m\u001b[0;34m'ingrese una temperatura en grados celcius'\u001b[0m\u001b[0;34m)\u001b[0m\u001b[0;34m)\u001b[0m\u001b[0;34m\u001b[0m\u001b[0;34m\u001b[0m\u001b[0m\n\u001b[0;32m---> 12\u001b[0;31m \u001b[0mpromedio\u001b[0m\u001b[0;34m=\u001b[0m \u001b[0msuma_temperaturas\u001b[0m \u001b[0;34m/\u001b[0m \u001b[0mcontador_temperaturas\u001b[0m\u001b[0;34m\u001b[0m\u001b[0;34m\u001b[0m\u001b[0m\n\u001b[0m\u001b[1;32m     13\u001b[0m \u001b[0mprint\u001b[0m\u001b[0;34m(\u001b[0m\u001b[0;34mf'El promedio de las temperaturas es {promedio}'\u001b[0m\u001b[0;34m)\u001b[0m\u001b[0;34m\u001b[0m\u001b[0;34m\u001b[0m\u001b[0m\n\u001b[1;32m     14\u001b[0m \u001b[0;34m\u001b[0m\u001b[0m\n",
            "\u001b[0;31mZeroDivisionError\u001b[0m: division by zero"
          ]
        }
      ]
    },
    {
      "cell_type": "code",
      "source": [
        "factorial = 1\n",
        "numero_usuario= int(input('ingrese un numero entero'))\n",
        "if numero_usuario == 0:\n",
        "  print('El factorial de cero es 1')\n",
        "elif numero_usuario < 0:\n",
        "  print('No se puede calcular el factorial de un numero negativo')\n",
        "else:\n",
        "  print('empezemos con la factorizacion')\n",
        "\n",
        "  while numero_usuario > 1:\n",
        "    factorial = numero_usuario * factorial\n",
        "    print(factorial)\n",
        "    numero_usuario-= 1\n",
        "    print(numero_usuario)\n",
        "print(factorial)"
      ],
      "metadata": {
        "colab": {
          "base_uri": "https://localhost:8080/"
        },
        "id": "-L1wYSn6J2RG",
        "outputId": "c482037d-9fce-48db-b317-56478dbacd52"
      },
      "execution_count": 55,
      "outputs": [
        {
          "output_type": "stream",
          "name": "stdout",
          "text": [
            "ingrese un numero entero100\n",
            "empezemos con la factorizacion\n",
            "100\n",
            "99\n",
            "9900\n",
            "98\n",
            "970200\n",
            "97\n",
            "94109400\n",
            "96\n",
            "9034502400\n",
            "95\n",
            "858277728000\n",
            "94\n",
            "80678106432000\n",
            "93\n",
            "7503063898176000\n",
            "92\n",
            "690281878632192000\n",
            "91\n",
            "62815650955529472000\n",
            "90\n",
            "5653408585997652480000\n",
            "89\n",
            "503153364153791070720000\n",
            "88\n",
            "44277496045533614223360000\n",
            "87\n",
            "3852142155961424437432320000\n",
            "86\n",
            "331284225412682501619179520000\n",
            "85\n",
            "28159159160078012637630259200000\n",
            "84\n",
            "2365369369446553061560941772800000\n",
            "83\n",
            "196325657664063904109558167142400000\n",
            "82\n",
            "16098703928453240136983769705676800000\n",
            "81\n",
            "1303995018204712451095685346159820800000\n",
            "80\n",
            "104319601456376996087654827692785664000000\n",
            "79\n",
            "8241248515053782690924731387730067456000000\n",
            "78\n",
            "642817384174195049892129048242945261568000000\n",
            "77\n",
            "49496938581413018841693936714706785140736000000\n",
            "76\n",
            "3761767332187389431968739190317715670695936000000\n",
            "75\n",
            "282132549914054207397655439273828675302195200000000\n",
            "74\n",
            "20877808693640011347426502506263321972362444800000000\n",
            "73\n",
            "1524080034635720828362134682957222503982458470400000000\n",
            "72\n",
            "109733762493771899642073697172920020286737009868800000000\n",
            "71\n",
            "7791097137057804874587232499277321440358327700684800000000\n",
            "70\n",
            "545376799594046341221106274949412500825082939047936000000000\n",
            "69\n",
            "37630999171989197544256332971509462556930722794307584000000000\n",
            "68\n",
            "2558907943695265433009430642062643453871289150012915712000000000\n",
            "67\n",
            "171446832227582784011631853018197111409376373050865352704000000000\n",
            "66\n",
            "11315490927020463744767702299201009353018840621357113278464000000000\n",
            "65\n",
            "735506910256330143409900649448065607946224640388212363100160000000000\n",
            "64\n",
            "47072442256405129178233641564676198908558376984845591238410240000000000\n",
            "63\n",
            "2965563862153523138228719418574600531239177750045272248019845120000000000\n",
            "62\n",
            "183864959453518434570180603951625232936829020502806879377230397440000000000\n",
            "61\n",
            "11215762526664624508781016841049139209146570250671219642011054243840000000000\n",
            "60\n",
            "672945751599877470526861010462948352548794215040273178520663254630400000000000\n",
            "59\n",
            "39703799344392770761084799617313952800378858687376117532719132023193600000000000\n",
            "58\n",
            "2302820361974780704142918377804209262421973803867814816897709657345228800000000000\n",
            "57\n",
            "131260760632562500136146347534839927958052506820465444563169450468678041600000000000\n",
            "56\n",
            "7350602595423500007624195461951035965650940381946064895537489226245970329600000000000\n",
            "55\n",
            "404283142748292500419330750407306978110801721007033569254561907443528368128000000000000\n",
            "54\n",
            "21831289708407795022643860521994576817983292934379812739746343001950531878912000000000000\n",
            "53\n",
            "1157058354545613136200124607665712571353114525522130075206556179103378189582336000000000000\n",
            "52\n",
            "60167034436371883082406479598617053710361955327150763910740921313375665858281472000000000000\n",
            "51\n",
            "3068518756254966037202730459529469739228459721684688959447786986982158958772355072000000000000\n",
            "50\n",
            "153425937812748301860136522976473486961422986084234447972389349349107947938617753600000000000000\n",
            "49\n",
            "7517870952824666791146689625847200861109726318127487950647078118106289448992269926400000000000000\n",
            "48\n",
            "360857805735584005975041102040665641333266863270119421631059749669101893551628956467200000000000000\n",
            "47\n",
            "16960316869572448280826931795911285142663542573695612816659808234447788996926560953958400000000000000\n",
            "46\n",
            "780174576000332620918038862611919116562522958389998189566351178784598293858621803882086400000000000000\n",
            "45\n",
            "35107855920014967941311748817536360245313533127549918530485803045306923223637981174693888000000000000000\n",
            "44\n",
            "1544745660480658589417716947971599850793795457612196415341375333993504621840071171686531072000000000000000\n",
            "43\n",
            "66424063400668319344961828762778793584133204677324445859679139361720698739123060382520836096000000000000000\n",
            "42\n",
            "2789810662828069412488396808036709330533594596447626726106523853192269347043168536065875116032000000000000000\n",
            "41\n",
            "114382237175950845912024269129505082551877378454352695770367477980883043228769909978700879757312000000000000000\n",
            "40\n",
            "4575289487038033836480970765180203302075095138174107830814699119235321729150796399148035190292480000000000000000\n",
            "39\n",
            "178436289994483319622757859842027928780928710388790205401773265650177547436881059566773372421406720000000000000000\n",
            "38\n",
            "6780579019790366145664798673997061293675290994774027805267384094706746802601480263537388152013455360000000000000000\n",
            "37\n",
            "250881423732243547389597550937891267865985766806639028794893211504149631696254769750883361624497848320000000000000000\n",
            "36\n",
            "9031731254360767706025511833764085643175487605039005036616155614149386741065171711031801018481922539520000000000000000\n",
            "35\n",
            "316110593902626869710892914181742997511142066176365176281565446495228535937281009886113035646867288883200000000000000000\n",
            "34\n",
            "10747760192689313570170359082179261915378830249996415993573225180837770221867554336127843211993487822028800000000000000000\n",
            "33\n",
            "354676086358747347815621849711915643207501398249881727787916430967646417321629293092218825995785098126950400000000000000000\n",
            "32\n",
            "11349634763479915130099899190781300582640044743996215289213325790964685354292137378951002431865123140062412800000000000000000\n",
            "31\n",
            "351838677667877369033096874914220318061841387063882673965613099519905245983056258747481075387818817341934796800000000000000000\n",
            "30\n",
            "10555160330036321070992906247426609541855241611916480218968392985597157379491687762424432261634564520258043904000000000000000000\n",
            "29\n",
            "306099649571053311058794281175371676713802006745577926350083396582317564005258945110308535587402371087483273216000000000000000000\n",
            "28\n",
            "8570790187989492709646239872910406947986456188876181937802335104304891792147250463088638996447266390449531650048000000000000000000\n",
            "27\n",
            "231411335075716303160448476568580987595634317099656912320663047816232078387975762503393252904076192542137354551296000000000000000000\n",
            "26\n",
            "6016694711968623882171660390783105677486492244591079720337239243222034038087369825088224575505981006095571218333696000000000000000000\n",
            "25\n",
            "150417367799215597054291509769577641937162306114776993008430981080550850952184245627205614387649525152389280458342400000000000000000000\n",
            "24\n",
            "3610016827181174329302996234469863406491895346754647832202343545933220422852421895052934745303588603657342731000217600000000000000000000\n",
            "23\n",
            "83030387025167009573968913392806858349313592975356900140653901556464069725605703586217499141982537884118882813005004800000000000000000000\n",
            "22\n",
            "1826668514553674210627316094641750883684899045457851803094385834242209533963325478896784981123615833450615421886110105600000000000000000000\n",
            "21\n",
            "38360038805627158423173637987476768557382879954614887864982102519086400213229835056832484603595932502462923859608312217600000000000000000000\n",
            "20\n",
            "767200776112543168463472759749535371147657599092297757299642050381728004264596701136649692071918650049258477192166244352000000000000000000000\n",
            "19\n",
            "14576814746138320200805982435241172051805494382753657388693198957252832081027337321596344149366454350935911066651158642688000000000000000000000\n",
            "18\n",
            "262382665430489763614507683834341096932498898889565832996477581230550977458492071788734194688596178316846399199720855568384000000000000000000000\n",
            "17\n",
            "4460505312318325981446630625183798647852481281122619160940118880919366616794365220408481309706135031386388786395254544662528000000000000000000000\n",
            "16\n",
            "71368084997093215703146090002940778365639700497961906575041902094709865868709843526535700955298160502182220582324072714600448000000000000000000000\n",
            "15\n",
            "1070521274956398235547191350044111675484595507469428598625628531420647988030647652898035514329472407532733308734861090719006720000000000000000000000\n",
            "14\n",
            "14987297849389575297660678900617563456784337104572000380758799439889071832429067140572497200612613705458266322288055270066094080000000000000000000000\n",
            "13\n",
            "194834872042064478869588825708028324938196382359436004949864392718557933821577872827442463607963978170957462189744718510859223040000000000000000000000\n",
            "12\n",
            "2338018464504773746435065908496339899258356588313232059398372712622695205858934473929309563295567738051489546276936622130310676480000000000000000000000\n",
            "11\n",
            "25718203109552511210785724993459738891841922471445552653382099838849647264448279213222405196251245118566385009046302843433417441280000000000000000000000\n",
            "10\n",
            "257182031095525112107857249934597388918419224714455526533820998388496472644482792132224051962512451185663850090463028434334174412800000000000000000000000\n",
            "9\n",
            "2314638279859726008970715249411376500265773022430099738804388985496468253800345129190016467662612060670974650814167255909007569715200000000000000000000000\n",
            "8\n",
            "18517106238877808071765721995291012002126184179440797910435111883971746030402761033520131741300896485367797206513338047272060557721600000000000000000000000\n",
            "7\n",
            "129619743672144656502360053967037084014883289256085585373045783187802222212819327234640922189106275397574580445593366330904423904051200000000000000000000000\n",
            "6\n",
            "777718462032867939014160323802222504089299735536513512238274699126813333276915963407845533134637652385447482673560197985426543424307200000000000000000000000\n",
            "5\n",
            "3888592310164339695070801619011112520446498677682567561191373495634066666384579817039227665673188261927237413367800989927132717121536000000000000000000000000\n",
            "4\n",
            "15554369240657358780283206476044450081785994710730270244765493982536266665538319268156910662692753047708949653471203959708530868486144000000000000000000000000\n",
            "3\n",
            "46663107721972076340849619428133350245357984132190810734296481947608799996614957804470731988078259143126848960413611879125592605458432000000000000000000000000\n",
            "2\n",
            "93326215443944152681699238856266700490715968264381621468592963895217599993229915608941463976156518286253697920827223758251185210916864000000000000000000000000\n",
            "1\n",
            "93326215443944152681699238856266700490715968264381621468592963895217599993229915608941463976156518286253697920827223758251185210916864000000000000000000000000\n"
          ]
        }
      ]
    },
    {
      "cell_type": "markdown",
      "source": [],
      "metadata": {
        "id": "rFsX4Z389YKW"
      }
    },
    {
      "cell_type": "markdown",
      "source": [
        "El lazo `while` es una estructura de control de repetición en Python que permite ejecutar un bloque de código repetidamente mientras que una determinada condición sea verdadera. Su estructura es:\n",
        "\n",
        "\n",
        "\n",
        "```\n",
        "while condicion:\n",
        "    # bloque de codigo\n",
        "```\n",
        "\n",
        "Vamos a construir un ejemplo con un contador de 1 hasta 10.\n"
      ],
      "metadata": {
        "id": "rXZxDMiqHxm9"
      }
    },
    {
      "cell_type": "code",
      "source": [],
      "metadata": {
        "id": "Hd0ZSWxD9wCD"
      },
      "execution_count": null,
      "outputs": []
    },
    {
      "cell_type": "code",
      "source": [],
      "metadata": {
        "id": "miFHNqp29nOL"
      },
      "execution_count": null,
      "outputs": []
    },
    {
      "cell_type": "markdown",
      "source": [
        "Ahora vamos a colectar las notas y promedios de cada alumno dentro del lazo `while`. Haremos un ejemplo con 3 promedios."
      ],
      "metadata": {
        "id": "W4KZPBJuIrut"
      }
    },
    {
      "cell_type": "code",
      "source": [],
      "metadata": {
        "id": "9T5eCLFx9wk6"
      },
      "execution_count": null,
      "outputs": []
    },
    {
      "cell_type": "code",
      "source": [],
      "metadata": {
        "id": "P6E0_dW-9lZ9"
      },
      "execution_count": null,
      "outputs": []
    },
    {
      "cell_type": "markdown",
      "source": [
        "## `FOR`"
      ],
      "metadata": {
        "id": "WgAIaENMMfCP"
      }
    },
    {
      "cell_type": "markdown",
      "source": [
        "El lazo `for` es un tipo de estructura de control de flujo en Python que permite iterar sobre un conjunto de elementos. Su estructura es:\n",
        "\n",
        "\n",
        "\n",
        "```\n",
        "for elemento in conjunto:\n",
        "    # codigo a ser ejecutado para cada elemento\n",
        "```\n",
        "\n",
        "El lazo `for` itera sobre cada elemento del conjunto especificado y ejecuta el bloque de código dentro del lazo para cada elemento. Cuando el lazo llega al final del conjunto, este se interrumpe y el programa continúa la ejecución después del lazo.\n",
        "\n"
      ],
      "metadata": {
        "id": "HxrSZoRAMh-x"
      }
    },
    {
      "cell_type": "markdown",
      "source": [
        "El conjunto lo podemos generar con la función incorporada [`range()`](https://docs.python.org/3/library/functions.html#func-range). Se trata de una función capaz de generar una secuencia de números enteros. La estructura de esta función es:\n",
        "\n",
        "```\n",
        "range(inicio, fin, paso)\n",
        "```\n",
        "\n",
        "Según la documentación, `range()` genera una secuencia de números enteros a partir del valor del parámetro `inicio` hasta el valor del parámetro `fin`, de acuerdo con el valor del parámetro `paso`. Si `inicio` no es especificado, el valor por defecto es `0`. Si `paso` no es especificado, el valor por defecto es `1`.\n",
        "\n",
        "\n"
      ],
      "metadata": {
        "id": "6VgjyoQtPHBM"
      }
    },
    {
      "cell_type": "markdown",
      "source": [
        "Vamos a recrear el mismo contador `while` con el lazo `for`."
      ],
      "metadata": {
        "id": "ryn0hfdlUwC8"
      }
    },
    {
      "cell_type": "code",
      "source": [],
      "metadata": {
        "id": "KkL1wUIj9jL4"
      },
      "execution_count": null,
      "outputs": []
    },
    {
      "cell_type": "code",
      "source": [],
      "metadata": {
        "id": "uXIZnLSr9jOu"
      },
      "execution_count": null,
      "outputs": []
    },
    {
      "cell_type": "markdown",
      "source": [
        "# Estructuras de datos"
      ],
      "metadata": {
        "id": "8noP8OJ0Vhux"
      }
    },
    {
      "cell_type": "markdown",
      "source": [
        "Un conjunto de elementos es una colección de items, que son almacenados juntos de manera organizada. Algunos ejemplos de conjuntos de elementos en Python son las listas, los strings y los diccionarios."
      ],
      "metadata": {
        "id": "xpEUkefTu8fY"
      }
    },
    {
      "cell_type": "markdown",
      "source": [
        "## Listas"
      ],
      "metadata": {
        "id": "THSg4KYLwxIb"
      }
    },
    {
      "cell_type": "markdown",
      "source": [
        "Las listas pueden almacenar una colección de items en orden. Ellas son delimitadas por corchetes `[]` y sus elementos son separados por comas.\n",
        "\n",
        "Estas pueden almacenar cualquier tipo de items, incluyendo números, strings, objetos, otras listas, entre otros. También nos permiten almacenar items de tipos de datos diferentes juntos en una única lista."
      ],
      "metadata": {
        "id": "dzpsiqrOyJcK"
      }
    },
    {
      "cell_type": "code",
      "source": [
        "lista = ['Penélope Camacho',9.5,9.0,9.7,True]\n",
        "lista"
      ],
      "metadata": {
        "id": "DO3TBj7nAYeG",
        "colab": {
          "base_uri": "https://localhost:8080/"
        },
        "outputId": "fbee2eb5-265e-4b5b-badf-a0dd9331074b"
      },
      "execution_count": null,
      "outputs": [
        {
          "output_type": "execute_result",
          "data": {
            "text/plain": [
              "['Penélope Camacho', 9.5, 9.0, 9.7, True]"
            ]
          },
          "metadata": {},
          "execution_count": 62
        }
      ]
    },
    {
      "cell_type": "code",
      "source": [],
      "metadata": {
        "id": "DO2ubP9N9D_2"
      },
      "execution_count": null,
      "outputs": []
    },
    {
      "cell_type": "markdown",
      "source": [
        "Las listas son organizadas en Python porque **cada elemento de la lista tiene un índice que indica su posición al interior de la lista**. Los índices comienzan en 0 van hasta el tamaño de la lista menos 1."
      ],
      "metadata": {
        "id": "qUz3sJNl6LgK"
      }
    },
    {
      "cell_type": "markdown",
      "source": [
        "Tenemos entonces 5 elementos con índices que varían de 0 a 4, ordenadamente:\n",
        "\n",
        "```\n",
        "#             [0]           [1]   [2]   [3]    [4]\n",
        "lista = ['Penélope Camacho', 9.5 , 9.0 , 9.7 , True]\n",
        "```\n",
        "\n",
        "En Python tenemos también los índices **negativos** que se inician en el último elemento con el valor de `-1` y avanzan en el universo de los negativos hasta llegar al 1° elemento:\n",
        "\n",
        "```\n",
        "#             [-5]         [-4]  [-3]  [-2]   [-1]\n",
        "lista = ['Penélope Camacho', 9.5 , 9.0 , 9.7 , True]\n",
        "```\n",
        "\n",
        "Logramos seleccionar separadamente cada elemento a través de sus respectivos índices. Colocando el nombre de la lista y en seguida el índice que será seleccionado."
      ],
      "metadata": {
        "id": "rLf-Qg526hFD"
      }
    },
    {
      "cell_type": "code",
      "source": [],
      "metadata": {
        "id": "4hco1Zqy88Kw"
      },
      "execution_count": null,
      "outputs": []
    },
    {
      "cell_type": "code",
      "source": [],
      "metadata": {
        "id": "M8lH0I2288Ph"
      },
      "execution_count": null,
      "outputs": []
    },
    {
      "cell_type": "markdown",
      "source": [
        "Una forma más dinámica de trabajar item a item en una lista es utilizando un lazo `for` para leer un elemento a la vez."
      ],
      "metadata": {
        "id": "6TaE1ijmBTCd"
      }
    },
    {
      "cell_type": "code",
      "source": [],
      "metadata": {
        "id": "rBx4Yu1786Sy"
      },
      "execution_count": null,
      "outputs": []
    },
    {
      "cell_type": "markdown",
      "source": [
        "**Situación**: La nota `9.0` de Penélope necesita ser ajustada pues ganó 1 punto en su última nota por participación en clase. Entonces es necesario realizar un cambio en el índice `2` de `9.0` a `10.0`."
      ],
      "metadata": {
        "id": "Dh1_HnIVvucY"
      }
    },
    {
      "cell_type": "code",
      "source": [],
      "metadata": {
        "id": "bVPoZg668z3T"
      },
      "execution_count": null,
      "outputs": []
    },
    {
      "cell_type": "code",
      "source": [],
      "metadata": {
        "id": "Jo_PBQ0g8z7D"
      },
      "execution_count": null,
      "outputs": []
    },
    {
      "cell_type": "markdown",
      "source": [
        "También podemos calcular el promedio del estudiante a partir de los datos que tenemos."
      ],
      "metadata": {
        "id": "53XduzXkycAf"
      }
    },
    {
      "cell_type": "code",
      "source": [],
      "metadata": {
        "id": "SIH61Rrb8yv4"
      },
      "execution_count": null,
      "outputs": []
    },
    {
      "cell_type": "markdown",
      "source": [
        "## Manipulación de listas\n",
        "\n",
        "Las listas son muy útiles en Python porque nos permiten almacenar y acceder a una colección de items de manera organizada y rápida. Estas también ofrecen muchos métodos útiles para manipular los itens almacenados, como adicionar, remover, clasificar y buscar elementos."
      ],
      "metadata": {
        "id": "d-iYr10-y4qw"
      }
    },
    {
      "cell_type": "markdown",
      "source": [
        "#### Cantidad de elementos\n",
        "\n",
        "Usamos la función [`len()`](https://docs.python.org/3/library/functions.html#len) para descubrir la cantidad de elementos de un conjunto."
      ],
      "metadata": {
        "id": "ZLqx9A97XVB_"
      }
    },
    {
      "cell_type": "code",
      "source": [],
      "metadata": {
        "id": "6q1Tmm7P8wQf"
      },
      "execution_count": null,
      "outputs": []
    },
    {
      "cell_type": "markdown",
      "source": [
        "#### Partición\n",
        "\n",
        "La partición de listas por indexación en Python es una técnica muy útil para seleccionar un subconjunto de elementos de una lista. Esta se realiza usando la sintaxis `lista[inicio:fin]`, donde `inicio` es el índice del primer elemento que será incluído en la partición `fin` es el índice del primer elemento que será excluído de la partición."
      ],
      "metadata": {
        "id": "Z5tpstlHJss3"
      }
    },
    {
      "cell_type": "code",
      "source": [],
      "metadata": {
        "id": "NctvJTTU8uV9"
      },
      "execution_count": null,
      "outputs": []
    },
    {
      "cell_type": "code",
      "source": [],
      "metadata": {
        "id": "bQZUwldj8uY2"
      },
      "execution_count": null,
      "outputs": []
    },
    {
      "cell_type": "markdown",
      "source": [
        "#### [`append()`](https://docs.python.org/3/tutorial/datastructures.html#:~:text=of%20list%20objects%3A-,list.append(x),-Add%20an%20item)\n",
        "\n",
        "Añade un elemento al final de la lista."
      ],
      "metadata": {
        "id": "O0RRyabkRzZC"
      }
    },
    {
      "cell_type": "code",
      "source": [],
      "metadata": {
        "id": "_Q0oODwa8spC"
      },
      "execution_count": null,
      "outputs": []
    },
    {
      "cell_type": "code",
      "source": [],
      "metadata": {
        "id": "RM894r2M8sse"
      },
      "execution_count": null,
      "outputs": []
    },
    {
      "cell_type": "markdown",
      "source": [
        "#### [`extend()`](https://docs.python.org/3/tutorial/datastructures.html#:~:text=list.extend(iterable))\n",
        "\n",
        "Añade varios elementos al final de la lista.\n",
        "\n",
        "Añadiremos las notas `[10.0,8.0,9.0]` En la lista de Penélope Camacho."
      ],
      "metadata": {
        "id": "uQV91XMsUOJD"
      }
    },
    {
      "cell_type": "code",
      "source": [],
      "metadata": {
        "id": "6Zk2MpMw8rQc"
      },
      "execution_count": null,
      "outputs": []
    },
    {
      "cell_type": "code",
      "source": [],
      "metadata": {
        "id": "NnoKkoWb8rTQ"
      },
      "execution_count": null,
      "outputs": []
    },
    {
      "cell_type": "markdown",
      "source": [
        "*A continuación te mostraremos lo que no puede realizarse con* `append`."
      ],
      "metadata": {
        "id": "IVJvkTwNUk6M"
      }
    },
    {
      "cell_type": "code",
      "source": [],
      "metadata": {
        "id": "u3Eub2ZL8pp3"
      },
      "execution_count": null,
      "outputs": []
    },
    {
      "cell_type": "code",
      "source": [],
      "metadata": {
        "id": "tsKK5Ne58pvN"
      },
      "execution_count": null,
      "outputs": []
    },
    {
      "cell_type": "markdown",
      "source": [
        "#### [`remove()`](https://docs.python.org/3/tutorial/datastructures.html#:~:text=append(x).-,list.remove(x),-Remove%20the%20first)\n",
        "\n",
        "Remueve un elemento específico de la lista."
      ],
      "metadata": {
        "id": "dPGM5gpyUX1z"
      }
    },
    {
      "cell_type": "code",
      "source": [],
      "metadata": {
        "id": "mmboODPc8nd5"
      },
      "execution_count": null,
      "outputs": []
    },
    {
      "cell_type": "code",
      "source": [],
      "metadata": {
        "id": "T_w6vVgV8nh_"
      },
      "execution_count": null,
      "outputs": []
    },
    {
      "cell_type": "markdown",
      "source": [
        "## Diccionario"
      ],
      "metadata": {
        "id": "Rc22Vc08YDZ2"
      }
    },
    {
      "cell_type": "markdown",
      "source": [
        "Los diccionarios son un tipo de estructura de datos que almacenan pares de *llave-valor*. Estos son delimitados por llaves `{}` y los pares *llave-valor* son separados por comas.\n",
        "\n",
        "```\n",
        "diccionario = {llave: valor}\n",
        "```\n",
        "\n",
        "La **llave** es un elemento único que identifica a un valor en el diccionario, mientras que el **valor** es el item que será almacenado para la llave. Las llaves y sus respectivos valores se pueden emplear para **cualquier tipo de dato**.\n",
        "\n",
        "Los diccionarios son útiles para almacenar y acceder a los datos de manera organizada y rápida. Se trata de un tipo de conjunto de elementos en Python, pues almacenan una colección de items."
      ],
      "metadata": {
        "id": "PJ-cCKPjeWxL"
      }
    },
    {
      "cell_type": "code",
      "source": [],
      "metadata": {
        "id": "NDHhzooE8ld5"
      },
      "execution_count": null,
      "outputs": []
    },
    {
      "cell_type": "code",
      "source": [],
      "metadata": {
        "id": "AVOzqzy-8lhh"
      },
      "execution_count": null,
      "outputs": []
    },
    {
      "cell_type": "markdown",
      "source": [
        "---\n",
        "**Situación:**\n",
        "\n",
        "Vamos a crear un conjunto de datos con las informaciones de matrícula de un estudiante. Los datos son los siguientes:\n",
        "\n",
        "- matrícula: 2000168933\n",
        "- día de registro: 25\n",
        "- mes de registro: 10\n",
        "- grupo: 2E"
      ],
      "metadata": {
        "id": "_JbQ3KMKfkXU"
      }
    },
    {
      "cell_type": "code",
      "source": [],
      "metadata": {
        "id": "0lfOu_c38jED"
      },
      "execution_count": null,
      "outputs": []
    },
    {
      "cell_type": "code",
      "source": [],
      "metadata": {
        "id": "XIuqpTTy8jHV"
      },
      "execution_count": null,
      "outputs": []
    },
    {
      "cell_type": "markdown",
      "source": [
        "Es posible sustituir los valores dentro de una llave. Por ejemplo, recibimos la información de que el grupo del estudiante que registramos cambio a `'2G'` y ahora necesitamos cambiar el valor de la llave `'grupo'`."
      ],
      "metadata": {
        "id": "8ex5pt2ykDd2"
      }
    },
    {
      "cell_type": "code",
      "source": [],
      "metadata": {
        "id": "kQGlp36b8fyP"
      },
      "execution_count": null,
      "outputs": []
    },
    {
      "cell_type": "code",
      "source": [],
      "metadata": {
        "id": "DnfH_qHi8f17"
      },
      "execution_count": null,
      "outputs": []
    },
    {
      "cell_type": "markdown",
      "source": [
        "También podemos añadir otros datos al diccionario. Vamos a añadir la información sobre la modalidad de estudio, nuestro estudiante estudiará inicialemente en la modalidad EAD.\n",
        "\n",
        "Definiremos una llave llamada `'modalidad'` con el valor `'EAD'`."
      ],
      "metadata": {
        "id": "wB0qRb56mQvv"
      }
    },
    {
      "cell_type": "code",
      "source": [],
      "metadata": {
        "id": "EeLYdlIm8d8a"
      },
      "execution_count": null,
      "outputs": []
    },
    {
      "cell_type": "code",
      "source": [],
      "metadata": {
        "id": "olDIavsm8d_o"
      },
      "execution_count": null,
      "outputs": []
    },
    {
      "cell_type": "markdown",
      "source": [
        "## Profundizando en diccionarios"
      ],
      "metadata": {
        "id": "LJ3o_inroxg_"
      }
    },
    {
      "cell_type": "markdown",
      "source": [
        "#### [`pop()`](https://python-reference.readthedocs.io/en/latest/docs/dict/pop.html)\n",
        "Remueve un item de un diccionario y lo representa en la salida."
      ],
      "metadata": {
        "id": "2N3GLlkSpBiu"
      }
    },
    {
      "cell_type": "code",
      "source": [],
      "metadata": {
        "id": "ZsSCZx6G8b-T"
      },
      "execution_count": null,
      "outputs": []
    },
    {
      "cell_type": "code",
      "source": [],
      "metadata": {
        "id": "7lQ8_jpi8cBR"
      },
      "execution_count": null,
      "outputs": []
    },
    {
      "cell_type": "markdown",
      "source": [
        "#### [`items()`](https://python-reference.readthedocs.io/en/latest/docs/dict/items.html)\n",
        "Retorna una lista de pares `llave-valor` del diccionario."
      ],
      "metadata": {
        "id": "sYZGvJJYrW_y"
      }
    },
    {
      "cell_type": "code",
      "source": [],
      "metadata": {
        "id": "ncdycLV08an7"
      },
      "execution_count": null,
      "outputs": []
    },
    {
      "cell_type": "markdown",
      "source": [
        "#### [`keys()`](https://python-reference.readthedocs.io/en/latest/docs/dict/keys.html)\n",
        "Retorna una lista de las llaves del diccionario."
      ],
      "metadata": {
        "id": "Lb0utNFGrZBY"
      }
    },
    {
      "cell_type": "code",
      "source": [],
      "metadata": {
        "id": "eZo0biaM8ZVs"
      },
      "execution_count": null,
      "outputs": []
    },
    {
      "cell_type": "markdown",
      "source": [
        "#### [`values()`](https://python-reference.readthedocs.io/en/latest/docs/dict/values.html)\n",
        "Retorna una lista de los valores del diccionario."
      ],
      "metadata": {
        "id": "qKyu3bf9rbtX"
      }
    },
    {
      "cell_type": "code",
      "source": [],
      "metadata": {
        "id": "-NxRT9C18Yvo"
      },
      "execution_count": null,
      "outputs": []
    },
    {
      "cell_type": "markdown",
      "source": [
        "### Lectura de valores con el lazo `for`"
      ],
      "metadata": {
        "id": "e3XVjR8Frp75"
      }
    },
    {
      "cell_type": "code",
      "source": [],
      "metadata": {
        "id": "NYcjU-Ip8Xan"
      },
      "execution_count": null,
      "outputs": []
    },
    {
      "cell_type": "code",
      "source": [],
      "metadata": {
        "id": "aAnpP1Wv8XfJ"
      },
      "execution_count": null,
      "outputs": []
    }
  ]
}